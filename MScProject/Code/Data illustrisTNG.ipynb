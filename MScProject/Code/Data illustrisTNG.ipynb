{
 "cells": [
  {
   "cell_type": "code",
   "execution_count": 1,
   "metadata": {},
   "outputs": [],
   "source": [
    "#thats for API propose\n",
    "import requests\n",
    "\n",
    "def get(path, params=None):\n",
    "    # make HTTP GET request to path\n",
    "    headers = {\"api-key\":\"83fb2a511946e50d7d8eb5c334bbc58c\"}\n",
    "    r = requests.get(path, params=params, headers=headers)\n",
    "\n",
    "    # raise exception if response code is not HTTP SUCCESS (200)\n",
    "    r.raise_for_status()\n",
    "\n",
    "    if r.headers['content-type'] == 'application/json':\n",
    "        return r.json() # parse json responses automatically\n",
    "\n",
    "    if 'content-disposition' in r.headers:\n",
    "        filename = r.headers['content-disposition'].split(\"filename=\")[1]\n",
    "        with open(filename, 'wb') as f:\n",
    "            f.write(r.content)\n",
    "        return filename # return the filename string\n",
    "\n",
    "    return r"
   ]
  },
  {
   "cell_type": "code",
   "execution_count": 2,
   "metadata": {},
   "outputs": [],
   "source": [
    "#libraries\n",
    "import illustris_python as il\n",
    "import numpy as np\n",
    "import pandas as pd\n",
    "import matplotlib.pyplot as plt\n",
    "\n",
    "from scipy.spatial import cKDTree\n",
    "from scipy.interpolate import griddata\n",
    "from scipy import interpolate\n",
    "\n",
    "from astropy import constants as const\n",
    "\n",
    "\n",
    "# Constants\n",
    "G = const.G.cgs.value  # Gravitational constant in cm^3 g^-1 s^-2\n",
    "m_p = const.m_p.cgs.value  # Proton mass in g\n",
    "c = const.c.cgs.value  # Speed of light in cm/s\n",
    "sigma_T = const.sigma_T.cgs.value  # Thomson cross-section in cm^2\n",
    "\n",
    "e_r = 0.2 #radiative accretion efficiency\n",
    "\n",
    "e_fh = 0.05 #high-accretion state \n",
    "e_fm = 0.2 #low-accretion state\n",
    "\n",
    "Msun = 1.989e33 # in grams\n",
    "Gyr_to_s = 3.15576e16 # in seconds\n",
    "\n",
    "h = 0.6774 #for illustrisTNG\n",
    "\n",
    "#Path of the simulation\n",
    "basePath = './sims.TNG/TNG100-1/output/'"
   ]
  },
  {
   "cell_type": "code",
   "execution_count": 3,
   "metadata": {},
   "outputs": [
    {
     "name": "stdout",
     "output_type": "stream",
     "text": [
      "int32 (6291349,)\n",
      "int32 (6291349, 6)\n"
     ]
    }
   ],
   "source": [
    "#load the index of Subhalo table of the first (central) Subfind subhalo within this FoF group\n",
    "GroupFirstSub = il.groupcat.loadHalos(basePath,99,fields=['GroupFirstSub'])\n",
    "print(GroupFirstSub.dtype, GroupFirstSub.shape)\n",
    "\n",
    "\n",
    "#load the integer counter of the total number of particles/cells, split into the six different types, in this group.\n",
    "GroupLenType = il.groupcat.loadHalos(basePath,99,fields=['GroupLenType'])\n",
    "print(GroupLenType.dtype, GroupLenType.shape)"
   ]
  },
  {
   "cell_type": "code",
   "execution_count": 4,
   "metadata": {},
   "outputs": [
    {
     "data": {
      "text/plain": [
       "22671"
      ]
     },
     "execution_count": 4,
     "metadata": {},
     "output_type": "execute_result"
    }
   ],
   "source": [
    "# Particle type number for black holes\n",
    "ptNumBH = il.snapshot.partTypeNum('bh')\n",
    "\n",
    "# Array of number of black holes in each halo\n",
    "numBH = GroupLenType[:, ptNumBH] #ptNumBH = 5\n",
    "\n",
    "# Find indices of halos that contain exactly one black hole and at least one subhalo\n",
    "w = np.where((numBH == 1) & (GroupFirstSub >= 0))[0]\n",
    "\n",
    "# Find the first subhalo in each of these halos\n",
    "galaxies = GroupFirstSub[w]\n",
    "\n",
    "len(galaxies)"
   ]
  },
  {
   "cell_type": "code",
   "execution_count": 5,
   "metadata": {},
   "outputs": [
    {
     "data": {
      "text/plain": [
       "array([356678, 359811, 377398, 381608, 384914, 393731, 398110, 408764,\n",
       "       413608, 418770], dtype=int32)"
      ]
     },
     "execution_count": 5,
     "metadata": {},
     "output_type": "execute_result"
    }
   ],
   "source": [
    "#ids of 10 most massive galaxies\n",
    "ids = galaxies[0:10]\n",
    "ids"
   ]
  },
  {
   "cell_type": "code",
   "execution_count": 6,
   "metadata": {},
   "outputs": [
    {
     "name": "stdout",
     "output_type": "stream",
     "text": [
      "356678 8.90579030537821 1\n",
      "359811 9.003289278684361 1\n",
      "377398 8.776727771416118 1\n",
      "381608 8.836196620716656 1\n",
      "384914 8.741875425674783 1\n",
      "393731 8.878017426619001 1\n",
      "398110 8.697428584858432 1\n",
      "408764 8.699085390551613 1\n",
      "413608 8.662403677748808 1\n",
      "418770 8.544854992279376 1\n"
     ]
    }
   ],
   "source": [
    "for id in ids:\n",
    "    url = \"http://www.tng-project.org/api/TNG100-1/snapshots/z=0/subhalos/\" + str(id)\n",
    "    subhalo = get(url)\n",
    "    print(id, np.log10(subhalo['mass_bhs'] *((1e10) / h)), subhalo['len_bhs'])"
   ]
  },
  {
   "cell_type": "markdown",
   "metadata": {},
   "source": [
    "### Make a CSV file! \n",
    "##### With the data that we want to use in order to make the graphs/diagrams for galaxy id=356678 which is the most massive galaxy with one black hole (SMBH)"
   ]
  },
  {
   "cell_type": "code",
   "execution_count": 7,
   "metadata": {},
   "outputs": [
    {
     "name": "stdout",
     "output_type": "stream",
     "text": [
      "Progenitor of 356678 at snap=99 is 356678\n",
      "Progenitor of 356678 at snap=91 is 328073\n",
      "Progenitor of 356678 at snap=84 is 311161\n",
      "Progenitor of 356678 at snap=78 is 288976\n",
      "Progenitor of 356678 at snap=72 is 271683\n",
      "Progenitor of 356678 at snap=67 is 278074\n",
      "Progenitor of 356678 at snap=59 is 240958\n",
      "Progenitor of 356678 at snap=50 is 201642\n",
      "Progenitor of 356678 at snap=40 is 120141\n",
      "Progenitor of 356678 at snap=33 is 96564\n",
      "Progenitor of 356678 at snap=25 is 96803\n",
      "[96803, 96564, 120141, 201642, 240958, 278074, 271683, 288976, 311161, 328073, 356678]\n"
     ]
    }
   ],
   "source": [
    "ids = [356678] #galaxy id\n",
    "target_snaps = [99, 91, 84, 78, 72, 67, 59, 50, 40, 33, 25]  # list of target snapshots here\n",
    "# the target snapshots list are the 11 out the 20 full snapshots that illustrisTNG have \n",
    "# 99 snapshots corresponds to z=0 and the 25 snapshot to z=3\n",
    "\n",
    "progenitor_ids_list = []\n",
    "\n",
    "for id in ids:\n",
    "    id_progenitors = []\n",
    "    start_url = \"http://www.tng-project.org/api/TNG100-1/snapshots/99/subhalos/\" + str(id)\n",
    "    sub = get(start_url)\n",
    "    current_snap = 99\n",
    "\n",
    "    for snap in target_snaps:\n",
    "        while current_snap > snap:\n",
    "            # request the full subhalo details of the progenitor by following the sublink URL\n",
    "            try:\n",
    "                sub = get(sub['related']['sublink_progenitor'])\n",
    "                current_snap = sub['snap']\n",
    "            except KeyError:  # KeyError occurs if there's no progenitor\n",
    "                break  # exit the while loop and go to the next snap\n",
    "\n",
    "        if current_snap == snap:  # if the snapshot has a progenitor\n",
    "            id_progenitors.append(sub['id'])\n",
    "            print(f'Progenitor of {id} at snap={snap} is {sub[\"id\"]}')\n",
    "        else:\n",
    "            print(f'Progenitor of {id} not followed to snap={snap}!')\n",
    "            id_progenitors.append(-1)\n",
    "\n",
    "    progenitor_ids_list.append(id_progenitors)\n",
    "\n",
    "# Transpose the list to match the target_snap order\n",
    "progenitor_ids_list = list(map(list, zip(*progenitor_ids_list)))\n",
    "\n",
    "# Exclude -1 values\n",
    "progenitor_ids_list = [sublist for sublist in progenitor_ids_list if sublist != [-1]*len(ids)]\n",
    "\n",
    "# Flatten the list\n",
    "progenitor_ids_list = [id for sublist in progenitor_ids_list for id in sublist]\n",
    "\n",
    "# Reverse the list\n",
    "progenitor_ids_list.reverse()\n",
    "\n",
    "print(progenitor_ids_list)"
   ]
  },
  {
   "cell_type": "code",
   "execution_count": 8,
   "metadata": {},
   "outputs": [
    {
     "name": "stdout",
     "output_type": "stream",
     "text": [
      "[25, 33, 40, 50, 59, 67, 72, 78, 84, 91, 99]\n",
      "[96803, 96564, 120141, 201642, 240958, 278074, 271683, 288976, 311161, 328073, 356678]\n"
     ]
    }
   ],
   "source": [
    "# target snapshots\n",
    "snapshots = [25, 33, 40, 50, 59, 67, 72, 78, 84, 91, 99]\n",
    "print(snapshots)\n",
    "#below are the ids that were found from above\n",
    "ids = progenitor_ids_list\n",
    "print(ids)"
   ]
  },
  {
   "cell_type": "markdown",
   "metadata": {},
   "source": [
    "### try to calculate the divergance of the gas in specific distance outside of the halo"
   ]
  },
  {
   "cell_type": "code",
   "execution_count": 10,
   "metadata": {},
   "outputs": [
    {
     "name": "stdout",
     "output_type": "stream",
     "text": [
      "Average divergence at snap=25, id=96803: -2.624753264309006\n",
      "Average divergence at snap=33, id=96564: 3.9022919575532673\n",
      "Average divergence at snap=40, id=120141: 4.283671794249535\n",
      "Average divergence at snap=50, id=201642: 1.0609325795069262\n",
      "Average divergence at snap=59, id=240958: 6.185255480015084\n",
      "Average divergence at snap=67, id=278074: -1.1732551135327816\n",
      "Average divergence at snap=72, id=271683: 2.280408953305483\n",
      "Average divergence at snap=78, id=288976: -0.6338355924830437\n",
      "Average divergence at snap=84, id=311161: -1.3836333506507874\n",
      "Average divergence at snap=91, id=328073: 4.0129659512127045\n",
      "Average divergence at snap=99, id=356678: 12.494894185577989\n"
     ]
    }
   ],
   "source": [
    "def calculate_divergence(part_data, agn_position, radius=None):\n",
    "    # Calculate the position of the particles relative to the AGN\n",
    "    relative_pos = part_data['Coordinates'] - agn_position\n",
    "    \n",
    "    # If radius is provided, filter out particles outside this radius\n",
    "    if radius is not None:\n",
    "        distances = np.sqrt(np.sum(relative_pos**2, axis=1))\n",
    "        mask = distances <= radius\n",
    "        relative_pos = relative_pos[mask]\n",
    "        part_data['Velocities'] = part_data['Velocities'][mask]\n",
    "        \n",
    "    # If after filtering no particles are left, return NaN or another appropriate value\n",
    "    if len(relative_pos) == 0:\n",
    "        return np.nan\n",
    "\n",
    "    # Calculate the position boundaries\n",
    "    padding = 10  # This value can be adjusted as needed\n",
    "    min_x, min_y, min_z = np.min(relative_pos, axis=0) - padding\n",
    "    max_x, max_y, max_z = np.max(relative_pos, axis=0) + padding\n",
    "\n",
    "    # Create a grid\n",
    "    grid_x, grid_y, grid_z = np.mgrid[min_x:max_x:100j, min_y:max_y:100j, min_z:max_z:100j]\n",
    "\n",
    "    # Interpolate the velocities onto the grid\n",
    "    grid_vx = interpolate.griddata(relative_pos, part_data['Velocities'][:, 0], (grid_x, grid_y, grid_z), method='nearest')\n",
    "    grid_vy = interpolate.griddata(relative_pos, part_data['Velocities'][:, 1], (grid_x, grid_y, grid_z), method='nearest')\n",
    "    grid_vz = interpolate.griddata(relative_pos, part_data['Velocities'][:, 2], (grid_x, grid_y, grid_z), method='nearest')\n",
    "\n",
    "    # Calculate the divergence\n",
    "    divergence = np.gradient(grid_vx, axis=0) + np.gradient(grid_vy, axis=1) + np.gradient(grid_vz, axis=2)\n",
    "    \n",
    "    # Return the average divergence    \n",
    "    return np.mean(divergence)\n",
    "\n",
    "# Define lists to store the results\n",
    "avg_divergence_list = []\n",
    "\n",
    "radius = 20  # This value can be adjusted as needed\n",
    "\n",
    "# Loop over each subhalo ID and their snapshot\n",
    "for snap, i in zip(snapshots, ids):\n",
    "    # Load the particle data for the subhalo\n",
    "    part_data = il.snapshot.loadSubhalo(basePath, snap, i, partType='gas', fields=['Coordinates', 'Velocities'])\n",
    "    \n",
    "    agn_position = il.groupcat.loadSingle(basePath, snap, subhaloID=i)\n",
    "    agn_position = agn_position['SubhaloPos']\n",
    "\n",
    "    # Calculate the divergence\n",
    "    average_divergence = calculate_divergence(part_data, agn_position, radius)\n",
    "\n",
    "    # Store the results\n",
    "    avg_divergence_list.append(average_divergence)\n",
    "\n",
    "    # Print the average divergence\n",
    "    print(f'Average divergence at snap={snap}, id={i}: {average_divergence}')"
   ]
  },
  {
   "cell_type": "code",
   "execution_count": 19,
   "metadata": {},
   "outputs": [
    {
     "name": "stdout",
     "output_type": "stream",
     "text": [
      "Number of particles within radius 3.6924403974735385e-18: 0\n",
      "Average divergence at snap=25, id=96803: nan\n",
      "Number of particles within radius 7.847415896005148e-18: 0\n",
      "Average divergence at snap=33, id=96564: nan\n",
      "Number of particles within radius 6.923260525461639e-17: 0\n",
      "Average divergence at snap=40, id=120141: nan\n",
      "Number of particles within radius 7.693179496350843e-17: 0\n",
      "Average divergence at snap=50, id=201642: nan\n",
      "Number of particles within radius 1.0846710571801304e-16: 0\n",
      "Average divergence at snap=59, id=240958: nan\n",
      "Number of particles within radius 8.513509976541129e-17: 0\n",
      "Average divergence at snap=67, id=278074: nan\n",
      "Number of particles within radius 1.161689947602635e-16: 0\n",
      "Average divergence at snap=72, id=271683: nan\n",
      "Number of particles within radius 1.608687587944191e-16: 0\n",
      "Average divergence at snap=78, id=288976: nan\n",
      "Number of particles within radius 1.28097311812158e-16: 0\n",
      "Average divergence at snap=84, id=311161: nan\n",
      "Number of particles within radius 1.3245041940293592e-16: 0\n",
      "Average divergence at snap=91, id=328073: nan\n",
      "Number of particles within radius 1.7020570461510998e-16: 0\n",
      "Average divergence at snap=99, id=356678: nan\n"
     ]
    }
   ],
   "source": [
    "# Constants\n",
    "G = 6.67430e-11  # m^3 kg^-1 s^-2, gravitational constant (SI units)\n",
    "k = 1.380649e-23  # J K^-1, Boltzmann constant (SI units)\n",
    "mu = 0.6\n",
    "m_p = 1.6726219e-27  # kg, proton mass (SI units)\n",
    "\n",
    "def compute_temperature(u):\n",
    "    \"\"\"Compute the temperature given the internal energy.\"\"\"\n",
    "    return (mu * m_p * u) / k\n",
    "\n",
    "def compute_sound_speed(T):\n",
    "    \"\"\"Compute the sound speed given the temperature.\"\"\"\n",
    "    return np.sqrt(k * T / (mu * m_p))\n",
    "\n",
    "def compute_bondi_radius(M_BH, c_s):\n",
    "    \"\"\"Compute the Bondi radius given the black hole mass and sound speed.\"\"\"\n",
    "    return 2 * G * M_BH / c_s**2\n",
    "\n",
    "# Define lists to store the results\n",
    "avg_divergence_list = []\n",
    "\n",
    "# Loop over each subhalo ID and their snapshot\n",
    "for snap, i in zip(snapshots, ids):\n",
    "    # Load the particle data for the subhalo\n",
    "    part_data = il.snapshot.loadSubhalo(basePath, snap, i, partType='gas', fields=['Coordinates', 'Velocities', 'InternalEnergy'])\n",
    "    \n",
    "    agn_position = il.groupcat.loadSingle(basePath, snap, subhaloID=i)\n",
    "    agn_position = agn_position['SubhaloPos']\n",
    "\n",
    "    # Extract the black hole mass and average temperature of the gas\n",
    "    M_BH = il.groupcat.loadSingle(basePath, snap, subhaloID=i)['SubhaloBHMass']  # Adjust this line based on your data structure\n",
    "    \n",
    "    # Extract internal energy and compute the average temperature\n",
    "    u_avg = np.mean(part_data['InternalEnergy'])  # Assuming you have an 'InternalEnergy' field\n",
    "    T_avg = compute_temperature(u_avg)\n",
    "\n",
    "    # Compute the sound speed and Bondi radius\n",
    "    c_s = compute_sound_speed(T_avg)\n",
    "    radius = compute_bondi_radius(M_BH, c_s)\n",
    "\n",
    "    # Calculate the divergence\n",
    "    average_divergence = calculate_divergence(part_data, agn_position, radius)\n",
    "\n",
    "    # Store the results\n",
    "    avg_divergence_list.append(average_divergence)\n",
    "\n",
    "    # Print the average divergence\n",
    "    print(f'Average divergence at snap={snap}, id={i}: {average_divergence}')"
   ]
  },
  {
   "cell_type": "code",
   "execution_count": 16,
   "metadata": {},
   "outputs": [
    {
     "name": "stdout",
     "output_type": "stream",
     "text": [
      "Number of particles within radius 5.450901088682519e-08: 0\n",
      "At snap=25, id=96803: Blackhole Mass (log10) = 6.370173778762788, Average Divergence = nan\n",
      "Number of particles within radius 1.1584611597291334e-07: 0\n",
      "At snap=33, id=96564: Blackhole Mass (log10) = 7.370328908410828, Average Divergence = nan\n",
      "Number of particles within radius 1.022034326167942e-06: 0\n",
      "At snap=40, id=120141: Blackhole Mass (log10) = 8.432381531927017, Average Divergence = nan\n",
      "Number of particles within radius 1.1356922787645179e-06: 0\n",
      "At snap=50, id=201642: Blackhole Mass (log10) = 8.464915414905404, Average Divergence = nan\n",
      "Number of particles within radius 1.601226833746871e-06: 0\n",
      "At snap=59, id=240958: Blackhole Mass (log10) = 8.644740541490659, Average Divergence = nan\n",
      "Number of particles within radius 1.2567921429792042e-06: 0\n",
      "At snap=67, id=278074: Blackhole Mass (log10) = 8.645741205204855, Average Divergence = nan\n",
      "Number of particles within radius 1.7149246347839314e-06: 0\n",
      "At snap=72, id=271683: Blackhole Mass (log10) = 8.646309811009512, Average Divergence = nan\n",
      "Number of particles within radius 2.374797147836125e-06: 0\n",
      "At snap=78, id=288976: Blackhole Mass (log10) = 8.787479553489995, Average Divergence = nan\n",
      "Number of particles within radius 1.8910143462084147e-06: 0\n",
      "At snap=84, id=311161: Blackhole Mass (log10) = 8.787574060327197, Average Divergence = nan\n",
      "Number of particles within radius 1.9552763419388236e-06: 0\n",
      "At snap=91, id=328073: Blackhole Mass (log10) = 8.78775098135487, Average Divergence = nan\n",
      "Number of particles within radius 2.5126321909523174e-06: 0\n",
      "At snap=99, id=356678: Blackhole Mass (log10) = 8.905788928250107, Average Divergence = nan\n"
     ]
    }
   ],
   "source": [
    "# Constants\n",
    "G = 6.67430e-11  # m^3 kg^-1 s^-2, gravitational constant (SI units)\n",
    "k = 1.380649e-23  # J K^-1, Boltzmann constant (SI units)\n",
    "mu = 0.6\n",
    "m_p = 1.6726219e-27  # kg, proton mass (SI units)\n",
    "\n",
    "def compute_sound_speed(T):\n",
    "    \"\"\"Compute the sound speed given the temperature.\"\"\"\n",
    "    return np.sqrt(k * T / (mu * m_p))\n",
    "\n",
    "def compute_temperature(u):\n",
    "    \"\"\"Compute the temperature given the internal energy.\"\"\"\n",
    "    return (mu * m_p * u) / k\n",
    "\n",
    "def compute_bondi_radius(M_BH, c_s):\n",
    "    \"\"\"Compute the Bondi radius given the black hole mass and sound speed.\"\"\"\n",
    "    return 2 * G * M_BH / c_s**2\n",
    "\n",
    "def calculate_divergence(part_data, agn_position, radius=None):\n",
    "    # Calculate the position of the particles relative to the AGN\n",
    "    relative_pos = part_data['Coordinates'] - agn_position\n",
    "    \n",
    "    # If radius is provided, filter out particles outside this radius\n",
    "    if radius is not None:\n",
    "        distances = np.sqrt(np.sum(relative_pos**2, axis=1))\n",
    "        mask = distances <= radius\n",
    "        relative_pos = relative_pos[mask]\n",
    "        part_data['Velocities'] = part_data['Velocities'][mask]\n",
    "        \n",
    "        # Debug: Print the number of particles within the radius\n",
    "        print(f\"Number of particles within radius {radius}: {len(relative_pos)}\")\n",
    "\n",
    "    # If after filtering no particles are left, return NaN or another appropriate value\n",
    "    if len(relative_pos) == 0:\n",
    "        return np.nan\n",
    "    \n",
    "# Lists to store results\n",
    "avg_divergence_list = []\n",
    "bhmass_values = []\n",
    "\n",
    "# Loop over each subhalo ID and their snapshot\n",
    "for snap, id in zip(snapshots, ids):\n",
    "    # Load the particle data for the subhalo\n",
    "    part_data = il.snapshot.loadSubhalo(basePath, snap, id, partType='gas', fields=['Coordinates', 'Velocities', 'InternalEnergy'])\n",
    "    agn_position = il.groupcat.loadSingle(basePath, snap, subhaloID=id)\n",
    "    agn_position = agn_position['SubhaloPos']\n",
    "\n",
    "    # Extract internal energy and compute the average temperature\n",
    "    u_avg = np.mean(part_data['InternalEnergy'])\n",
    "    T_avg = compute_temperature(u_avg)\n",
    "    \n",
    "    # Extract the black hole mass\n",
    "    bh_data = il.snapshot.loadSubhalo(basePath, snap, id, \"BH\", fields='BH_Mass')\n",
    "    if isinstance(bh_data, np.ndarray) and bh_data.size > 0:\n",
    "        M_BH = bh_data[0] * ((1e10) / h)\n",
    "    elif isinstance(bh_data, dict) and 'BH_Mass' in bh_data and len(bh_data['BH_Mass']) > 0:\n",
    "        M_BH = bh_data['BH_Mass'][0] * ((1e10) / h)\n",
    "    else:\n",
    "        M_BH = 0.0\n",
    "    bh_mass_log = np.log10(M_BH)\n",
    "    bhmass_values.append(bh_mass_log)\n",
    "\n",
    "    # Compute the sound speed and Bondi radius\n",
    "    c_s = compute_sound_speed(T_avg)\n",
    "    radius = compute_bondi_radius(M_BH, c_s)\n",
    "\n",
    "    # Calculate the divergence\n",
    "    average_divergence = calculate_divergence(part_data, agn_position, radius)\n",
    "    avg_divergence_list.append(average_divergence)\n",
    "\n",
    "    # Print the results\n",
    "    print(f'At snap={snap}, id={id}: Blackhole Mass (log10) = {bh_mass_log}, Average Divergence = {average_divergence}')"
   ]
  },
  {
   "cell_type": "code",
   "execution_count": 15,
   "metadata": {},
   "outputs": [
    {
     "name": "stdout",
     "output_type": "stream",
     "text": [
      "Number of particles within radius 1.0785849306097236e-08: 0\n",
      "At snap=25, id=96803: Blackhole Mass (log10) = 6.370173778762788, Average Divergence = nan\n",
      "Number of particles within radius 5.094893377020187e-08: 0\n",
      "At snap=33, id=96564: Blackhole Mass (log10) = 7.370328908410828, Average Divergence = nan\n",
      "Number of particles within radius 5.192200879558706e-07: 0\n",
      "At snap=40, id=120141: Blackhole Mass (log10) = 8.432381531927017, Average Divergence = nan\n",
      "Number of particles within radius 5.794227505702028e-07: 0\n",
      "At snap=50, id=201642: Blackhole Mass (log10) = 8.464915414905404, Average Divergence = nan\n",
      "Number of particles within radius 9.056158182828449e-07: 0\n",
      "At snap=59, id=240958: Blackhole Mass (log10) = 8.644740541490659, Average Divergence = nan\n",
      "Number of particles within radius 7.586118941547936e-07: 0\n",
      "At snap=67, id=278074: Blackhole Mass (log10) = 8.645741205204855, Average Divergence = nan\n",
      "Number of particles within radius 1.0264943225790573e-06: 0\n",
      "At snap=72, id=271683: Blackhole Mass (log10) = 8.646309811009512, Average Divergence = nan\n",
      "Number of particles within radius 1.3053602408135836e-06: 0\n",
      "At snap=78, id=288976: Blackhole Mass (log10) = 8.787479553489995, Average Divergence = nan\n",
      "Number of particles within radius 9.157662612077815e-07: 0\n",
      "At snap=84, id=311161: Blackhole Mass (log10) = 8.787574060327197, Average Divergence = nan\n",
      "Number of particles within radius 1.26965343652397e-06: 0\n",
      "At snap=91, id=328073: Blackhole Mass (log10) = 8.78775098135487, Average Divergence = nan\n",
      "Number of particles within radius 1.6460039046262131e-06: 0\n",
      "At snap=99, id=356678: Blackhole Mass (log10) = 8.905788928250107, Average Divergence = nan\n"
     ]
    }
   ],
   "source": [
    "# Constants\n",
    "G = 6.67430e-11  # m^3 kg^-1 s^-2, gravitational constant (SI units)\n",
    "k = 1.380649e-23  # J K^-1, Boltzmann constant (SI units)\n",
    "mu = 0.6\n",
    "m_p = 1.6726219e-27  # kg, proton mass (SI units)\n",
    "\n",
    "def compute_sound_speed(T):\n",
    "    \"\"\"Compute the sound speed given the temperature.\"\"\"\n",
    "    return np.sqrt(k * T / (mu * m_p))\n",
    "\n",
    "def compute_temperature(u):\n",
    "    \"\"\"Compute the temperature given the internal energy.\"\"\"\n",
    "    return (mu * m_p * u) / k\n",
    "\n",
    "def compute_influence_radius(M_BH, sigma):\n",
    "    \"\"\"Compute the influence radius given the black hole mass and stellar velocity dispersion.\"\"\"\n",
    "    return G * M_BH / sigma**2\n",
    "\n",
    "def calculate_divergence(part_data, agn_position, radius=None):\n",
    "    # Calculate the position of the particles relative to the AGN\n",
    "    relative_pos = part_data['Coordinates'] - agn_position\n",
    "    \n",
    "    # If radius is provided, filter out particles outside this radius\n",
    "    if radius is not None:\n",
    "        distances = np.sqrt(np.sum(relative_pos**2, axis=1))\n",
    "        mask = distances <= radius\n",
    "        relative_pos = relative_pos[mask]\n",
    "        part_data['Velocities'] = part_data['Velocities'][mask]\n",
    "        \n",
    "        # Debug: Print the number of particles within the radius\n",
    "        print(f\"Number of particles within radius {radius}: {len(relative_pos)}\")\n",
    "\n",
    "    # If after filtering no particles are left, return NaN or another appropriate value\n",
    "    if len(relative_pos) == 0:\n",
    "        return np.nan\n",
    "    \n",
    "# Lists to store results\n",
    "avg_divergence_list = []\n",
    "bhmass_values = []\n",
    "\n",
    "# Loop over each subhalo ID and their snapshot\n",
    "for snap, id in zip(snapshots, ids):\n",
    "    # Load the particle data for the subhalo\n",
    "    part_data = il.snapshot.loadSubhalo(basePath, snap, id, partType='gas', fields=['Coordinates', 'Velocities', 'InternalEnergy'])\n",
    "    agn_position = il.groupcat.loadSingle(basePath, snap, subhaloID=id)\n",
    "    agn_position = agn_position['SubhaloPos']\n",
    "    \n",
    "    # You'll need to adjust this based on your data\n",
    "    sigma = il.groupcat.loadSingle(basePath, snap, subhaloID=id)\n",
    "    sigma = sigma['SubhaloVelDisp']\n",
    "\n",
    "    # Extract internal energy and compute the average temperature\n",
    "    u_avg = np.mean(part_data['InternalEnergy'])\n",
    "    T_avg = compute_temperature(u_avg)\n",
    "    \n",
    "    # Extract the black hole mass\n",
    "    bh_data = il.snapshot.loadSubhalo(basePath, snap, id, \"BH\", fields='BH_Mass')\n",
    "    if isinstance(bh_data, np.ndarray) and bh_data.size > 0:\n",
    "        M_BH = bh_data[0] * ((1e10) / h)\n",
    "    elif isinstance(bh_data, dict) and 'BH_Mass' in bh_data and len(bh_data['BH_Mass']) > 0:\n",
    "        M_BH = bh_data['BH_Mass'][0] * ((1e10) / h)\n",
    "    else:\n",
    "        M_BH = 0.0\n",
    "    bh_mass_log = np.log10(M_BH)\n",
    "    bhmass_values.append(bh_mass_log)\n",
    "\n",
    "    # Compute the sound speed and Bondi radius\n",
    "    c_s = compute_sound_speed(T_avg)\n",
    "    # Compute the influence radius\n",
    "    radius = compute_influence_radius(M_BH, sigma)\n",
    "\n",
    "    # Calculate the divergence\n",
    "    average_divergence = calculate_divergence(part_data, agn_position, radius)\n",
    "    avg_divergence_list.append(average_divergence)\n",
    "\n",
    "    # Print the results\n",
    "    print(f'At snap={snap}, id={id}: Blackhole Mass (log10) = {bh_mass_log}, Average Divergence = {average_divergence}')"
   ]
  },
  {
   "cell_type": "markdown",
   "metadata": {},
   "source": [
    " ------------------------------------------------------------------------------"
   ]
  },
  {
   "cell_type": "markdown",
   "metadata": {},
   "source": [
    "it failed so, start the calculation in the same that in Illustris Data used"
   ]
  },
  {
   "cell_type": "code",
   "execution_count": 10,
   "metadata": {},
   "outputs": [],
   "source": [
    "#Redshift are stored in the list `redshift`\n",
    "redshift = [3, 2, 1.5, 1, 0.7, 0.5, 0.4, 0.3, 0.2, 0.1, 0]\n",
    "\n",
    "# Create a DataFrame from your data\n",
    "df = pd.DataFrame({\n",
    "    'Redshift (z)': redshift\n",
    "})\n",
    "\n",
    "# Write the DataFrame to a CSV file\n",
    "df.to_csv('TNG_356678.csv', index=False)"
   ]
  },
  {
   "cell_type": "code",
   "execution_count": 11,
   "metadata": {},
   "outputs": [
    {
     "name": "stdout",
     "output_type": "stream",
     "text": [
      "   Redshift (z)\n",
      "0           3.0\n",
      "1           2.0\n",
      "2           1.5\n",
      "3           1.0\n",
      "4           0.7\n"
     ]
    }
   ],
   "source": [
    "# You can view the first few rows of the DataFrame\n",
    "df = pd.read_csv('TNG_356678.csv')\n",
    "print(df.head())"
   ]
  },
  {
   "cell_type": "code",
   "execution_count": 12,
   "metadata": {},
   "outputs": [
    {
     "name": "stdout",
     "output_type": "stream",
     "text": [
      "Average divergence at snap=25, id=96803: -2.655849491167478\n",
      "Average divergence at snap=33, id=96564: -8.635241774052023\n",
      "Average divergence at snap=40, id=120141: -7.142144324620098\n",
      "Average divergence at snap=50, id=201642: 1.7407412853100217\n",
      "Average divergence at snap=59, id=240958: -1.6938671853524596\n",
      "Average divergence at snap=67, id=278074: -0.6423950619283915\n",
      "Average divergence at snap=72, id=271683: -1.2073148108059912\n",
      "Average divergence at snap=78, id=288976: -1.5331515254284143\n",
      "Average divergence at snap=84, id=311161: -0.09381892361243069\n",
      "Average divergence at snap=91, id=328073: 0.289869139428094\n",
      "Average divergence at snap=99, id=356678: -0.9077009606757164\n"
     ]
    }
   ],
   "source": [
    "def calculate_divergence(part_data, agn_position):\n",
    "    # Calculate the position of the particles relative to the AGN\n",
    "    relative_pos = part_data['Coordinates'] - agn_position\n",
    "\n",
    "    # Calculate the position boundaries\n",
    "    padding = 1  # This value can be adhust as needed\n",
    "    min_x, min_y, min_z = np.min(relative_pos, axis=0) - padding\n",
    "    max_x, max_y, max_z = np.max(relative_pos, axis=0) + padding\n",
    "\n",
    "    # Create a grid\n",
    "    grid_x, grid_y, grid_z = np.mgrid[min_x:max_x:100j, min_y:max_y:100j, min_z:max_z:100j]\n",
    "\n",
    "    # Interpolate the velocities onto the grid\n",
    "    grid_vx = interpolate.griddata(relative_pos, part_data['Velocities'][:, 0], (grid_x, grid_y, grid_z), method='nearest')\n",
    "    grid_vy = interpolate.griddata(relative_pos, part_data['Velocities'][:, 1], (grid_x, grid_y, grid_z), method='nearest')\n",
    "    grid_vz = interpolate.griddata(relative_pos, part_data['Velocities'][:, 2], (grid_x, grid_y, grid_z), method='nearest')\n",
    "\n",
    "    # Calculate the divergence\n",
    "    divergence = np.gradient(grid_vx, axis=0) + np.gradient(grid_vy, axis=1) + np.gradient(grid_vz, axis=2)\n",
    "    \n",
    "    # Return the average divergence    \n",
    "    return np.mean(divergence)\n",
    "\n",
    "# Define lists to store the results\n",
    "avg_divergence_list = []\n",
    "\n",
    "# Loop over each subhalo ID and there snapshot\n",
    "for snap, i in zip(snapshots, ids):\n",
    "    # Load the particle data for the subhalo\n",
    "    part_data = il.snapshot.loadSubhalo(basePath, snap, i, partType='gas', fields=['Coordinates', 'Velocities'])\n",
    "    \n",
    "    agn_position = il.groupcat.loadSingle(basePath, snap, subhaloID=i)\n",
    "    agn_position = agn_position['SubhaloPos']\n",
    "\n",
    "    # Calculate the divergence\n",
    "    average_divergence = calculate_divergence(part_data, agn_position)\n",
    "\n",
    "    # Store the results\n",
    "    avg_divergence_list.append(average_divergence)\n",
    "\n",
    "    # Print the average divergence\n",
    "    print(f'Average divergence at snap={snap}, id={i}: {average_divergence}')\n",
    "    \n",
    "#read the file    \n",
    "df = pd.read_csv('TNG_356678.csv')\n",
    "#append them to the new column \n",
    "df['Average divergence'] = avg_divergence_list\n",
    "df.to_csv('TNG_356678.csv', index=False)"
   ]
  },
  {
   "cell_type": "code",
   "execution_count": 13,
   "metadata": {},
   "outputs": [
    {
     "name": "stdout",
     "output_type": "stream",
     "text": [
      "Average divergence at snap=25, galaxy id=96803, halo id=1559: -2.00768147317186\n",
      "Average divergence at snap=33, galaxy id=96564, halo id=408: -8.440810529527663\n",
      "Average divergence at snap=40, galaxy id=120141, halo id=308: -6.861567780934155\n",
      "Average divergence at snap=50, galaxy id=201642, halo id=472: 3.787322706496211\n",
      "Average divergence at snap=59, galaxy id=240958, halo id=447: -0.0034896357603371145\n",
      "Average divergence at snap=67, galaxy id=278074, halo id=456: 2.5381620215767025\n",
      "Average divergence at snap=72, galaxy id=271683, halo id=327: 0.4670039490369856\n",
      "Average divergence at snap=78, galaxy id=288976, halo id=306: 0.8348722882543206\n",
      "Average divergence at snap=84, galaxy id=311161, halo id=305: 1.8281309618685766\n",
      "Average divergence at snap=91, galaxy id=328073, halo id=285: 0.9198995107795075\n",
      "Average divergence at snap=99, galaxy id=356678, halo id=307: -0.624032698253572\n"
     ]
    }
   ],
   "source": [
    "def calculate_divergence(part_data, agn_position):\n",
    "    # Calculate the position of the particles relative to the AGN\n",
    "    relative_pos = part_data['Coordinates'] - agn_position\n",
    "\n",
    "    # Calculate the position boundaries\n",
    "    padding = 1  # This value can be adjusted as needed\n",
    "    min_x, min_y, min_z = np.min(relative_pos, axis=0) - padding\n",
    "    max_x, max_y, max_z = np.max(relative_pos, axis=0) + padding\n",
    "\n",
    "    # Create a grid\n",
    "    grid_x, grid_y, grid_z = np.mgrid[min_x:max_x:100j, min_y:max_y:100j, min_z:max_z:100j]\n",
    "\n",
    "    # Interpolate the velocities onto the grid\n",
    "    grid_vx = interpolate.griddata(relative_pos, part_data['Velocities'][:, 0], (grid_x, grid_y, grid_z), method='nearest')\n",
    "    grid_vy = interpolate.griddata(relative_pos, part_data['Velocities'][:, 1], (grid_x, grid_y, grid_z), method='nearest')\n",
    "    grid_vz = interpolate.griddata(relative_pos, part_data['Velocities'][:, 2], (grid_x, grid_y, grid_z), method='nearest')\n",
    "\n",
    "    # Calculate the divergence\n",
    "    divergence = np.gradient(grid_vx, axis=0) + np.gradient(grid_vy, axis=1) + np.gradient(grid_vz, axis=2)\n",
    "    \n",
    "    # Return the average divergence    \n",
    "    return np.mean(divergence)\n",
    "\n",
    "# Define lists to store the results\n",
    "avg_divergence_list = []\n",
    "\n",
    "# Loop over each subhalo ID and their snapshot\n",
    "for snap, i in zip(snapshots, ids):\n",
    "    # Get the main halo ID (Group Number) for the subhalo\n",
    "    main_halo_id = il.groupcat.loadSingle(basePath, snap, subhaloID=i)['SubhaloGrNr']\n",
    "    \n",
    "    # Load the properties of the main halo\n",
    "    main_halo_properties = il.groupcat.loadSingle(basePath, snap, haloID=main_halo_id)\n",
    "    \n",
    "    # Get the position of the main halo\n",
    "    agn_position = main_halo_properties['GroupPos']\n",
    "    \n",
    "    # Load the particle data for the halo\n",
    "    part_data = il.snapshot.loadHalo(basePath, snap, main_halo_id, partType='gas', fields=['Coordinates', 'Velocities'])\n",
    "\n",
    "    # Calculate the divergence\n",
    "    average_divergence = calculate_divergence(part_data, agn_position)\n",
    "\n",
    "    # Store the results\n",
    "    avg_divergence_list.append(average_divergence)\n",
    "\n",
    "    # Print the average divergence\n",
    "    print(f'Average divergence at snap={snap}, galaxy id={i}, halo id={main_halo_id}: {average_divergence}')\n",
    "    \n",
    "#read the file    \n",
    "df = pd.read_csv('TNG_356678.csv')\n",
    "#append them to the new column \n",
    "df['Average divergence of Halo'] = avg_divergence_list\n",
    "df.to_csv('TNG_356678.csv', index=False)"
   ]
  },
  {
   "cell_type": "code",
   "execution_count": 42,
   "metadata": {},
   "outputs": [
    {
     "data": {
      "image/png": "[encoded data removed]",
      "text/plain": [
       "<Figure size 432x288 with 1 Axes>"
      ]
     },
     "metadata": {
      "needs_background": "light"
     },
     "output_type": "display_data"
    },
    {
     "name": "stdout",
     "output_type": "stream",
     "text": [
      "Average outflow divergence at snap=25, galaxy id=96803, halo id=1559: [-241.91301655 -212.57902296 -225.23514446 ... 1442.31962261 2418.21442812\n",
      "  239.28908743]\n"
     ]
    },
    {
     "data": {
      "image/png": "[encoded data removed]",
      "text/plain": [
       "<Figure size 432x288 with 1 Axes>"
      ]
     },
     "metadata": {
      "needs_background": "light"
     },
     "output_type": "display_data"
    },
    {
     "name": "stdout",
     "output_type": "stream",
     "text": [
      "Average outflow divergence at snap=33, galaxy id=96564, halo id=408: [-241.91301655 -212.57902296 -225.23514446 ... 1442.31962261 2418.21442812\n",
      "  239.28908743]\n"
     ]
    },
    {
     "data": {
      "image/png": "[encoded data removed]",
      "text/plain": [
       "<Figure size 432x288 with 1 Axes>"
      ]
     },
     "metadata": {
      "needs_background": "light"
     },
     "output_type": "display_data"
    },
    {
     "name": "stdout",
     "output_type": "stream",
     "text": [
      "Average outflow divergence at snap=40, galaxy id=120141, halo id=308: [-241.91301655 -212.57902296 -225.23514446 ... 1442.31962261 2418.21442812\n",
      "  239.28908743]\n"
     ]
    },
    {
     "data": {
      "image/png": "[encoded data removed]",
      "text/plain": [
       "<Figure size 432x288 with 1 Axes>"
      ]
     },
     "metadata": {
      "needs_background": "light"
     },
     "output_type": "display_data"
    },
    {
     "name": "stdout",
     "output_type": "stream",
     "text": [
      "Average outflow divergence at snap=50, galaxy id=201642, halo id=472: [-241.91301655 -212.57902296 -225.23514446 ... 1442.31962261 2418.21442812\n",
      "  239.28908743]\n"
     ]
    },
    {
     "data": {
      "image/png": "[encoded data removed]",
      "text/plain": [
       "<Figure size 432x288 with 1 Axes>"
      ]
     },
     "metadata": {
      "needs_background": "light"
     },
     "output_type": "display_data"
    },
    {
     "name": "stdout",
     "output_type": "stream",
     "text": [
      "Average outflow divergence at snap=59, galaxy id=240958, halo id=447: [-241.91301655 -212.57902296 -225.23514446 ... 1442.31962261 2418.21442812\n",
      "  239.28908743]\n"
     ]
    },
    {
     "data": {
      "image/png": "[encoded data removed]",
      "text/plain": [
       "<Figure size 432x288 with 1 Axes>"
      ]
     },
     "metadata": {
      "needs_background": "light"
     },
     "output_type": "display_data"
    },
    {
     "name": "stdout",
     "output_type": "stream",
     "text": [
      "Average outflow divergence at snap=67, galaxy id=278074, halo id=456: [-241.91301655 -212.57902296 -225.23514446 ... 1442.31962261 2418.21442812\n",
      "  239.28908743]\n"
     ]
    },
    {
     "data": {
      "image/png": "[encoded data removed]",
      "text/plain": [
       "<Figure size 432x288 with 1 Axes>"
      ]
     },
     "metadata": {
      "needs_background": "light"
     },
     "output_type": "display_data"
    },
    {
     "name": "stdout",
     "output_type": "stream",
     "text": [
      "Average outflow divergence at snap=72, galaxy id=271683, halo id=327: [-241.91301655 -212.57902296 -225.23514446 ... 1442.31962261 2418.21442812\n",
      "  239.28908743]\n"
     ]
    },
    {
     "data": {
      "image/png": "[encoded data removed]",
      "text/plain": [
       "<Figure size 432x288 with 1 Axes>"
      ]
     },
     "metadata": {
      "needs_background": "light"
     },
     "output_type": "display_data"
    },
    {
     "name": "stdout",
     "output_type": "stream",
     "text": [
      "Average outflow divergence at snap=78, galaxy id=288976, halo id=306: [-241.91301655 -212.57902296 -225.23514446 ... 1442.31962261 2418.21442812\n",
      "  239.28908743]\n"
     ]
    },
    {
     "data": {
      "image/png": "[encoded data removed]",
      "text/plain": [
       "<Figure size 432x288 with 1 Axes>"
      ]
     },
     "metadata": {
      "needs_background": "light"
     },
     "output_type": "display_data"
    },
    {
     "name": "stdout",
     "output_type": "stream",
     "text": [
      "Average outflow divergence at snap=84, galaxy id=311161, halo id=305: [-241.91301655 -212.57902296 -225.23514446 ... 1442.31962261 2418.21442812\n",
      "  239.28908743]\n"
     ]
    },
    {
     "data": {
      "image/png": "[encoded data removed]",
      "text/plain": [
       "<Figure size 432x288 with 1 Axes>"
      ]
     },
     "metadata": {
      "needs_background": "light"
     },
     "output_type": "display_data"
    },
    {
     "name": "stdout",
     "output_type": "stream",
     "text": [
      "Average outflow divergence at snap=91, galaxy id=328073, halo id=285: [-241.91301655 -212.57902296 -225.23514446 ... 1442.31962261 2418.21442812\n",
      "  239.28908743]\n"
     ]
    },
    {
     "data": {
      "image/png": "[encoded data removed]",
      "text/plain": [
       "<Figure size 432x288 with 1 Axes>"
      ]
     },
     "metadata": {
      "needs_background": "light"
     },
     "output_type": "display_data"
    },
    {
     "name": "stdout",
     "output_type": "stream",
     "text": [
      "Average outflow divergence at snap=99, galaxy id=356678, halo id=307: [-241.91301655 -212.57902296 -225.23514446 ... 1442.31962261 2418.21442812\n",
      "  239.28908743]\n"
     ]
    }
   ],
   "source": [
    "def visualize_gas_flow(part_data, agn_position):\n",
    "    # Calculate the position of the particles relative to the AGN\n",
    "    relative_pos = part_data['Coordinates'] - agn_position\n",
    "    distances = np.linalg.norm(relative_pos, axis=1)\n",
    "    \n",
    "    # Calculate the radial velocities\n",
    "    radial_velocities = np.sum(relative_pos * part_data['Velocities'], axis=1) / distances\n",
    "    \n",
    "    # Plot radial velocity distribution\n",
    "    plt.hist(radial_velocities, bins=100, color='blue', alpha=0.7)\n",
    "    plt.xlabel('Radial Velocity (km/s)')\n",
    "    plt.ylabel('Number of Particles')\n",
    "    plt.title('Radial Velocity Distribution')\n",
    "    plt.show()\n",
    "\n",
    "# Loop over each subhalo ID and their snapshot\n",
    "for snap, i in zip(snapshots, ids):\n",
    "    # Get the main halo ID (Group Number) for the subhalo\n",
    "    main_halo_id = il.groupcat.loadSingle(basePath, snap, subhaloID=i)['SubhaloGrNr']\n",
    "    \n",
    "    # Load the properties of the main halo\n",
    "    main_halo_properties = il.groupcat.loadSingle(basePath, snap, haloID=main_halo_id)\n",
    "    \n",
    "    # Get the position of the main halo\n",
    "    agn_position = main_halo_properties['GroupPos']\n",
    "    \n",
    "    # Load the particle data for the halo\n",
    "    part_data = il.snapshot.loadHalo(basePath, snap, main_halo_id, partType='gas', fields=['Coordinates', 'Velocities'])\n",
    "    \n",
    "    # Visualize the gas flow\n",
    "    visualize_gas_flow(part_data, agn_position)\n",
    "\n",
    "    # Print the average outflow divergence\n",
    "    print(f'Average outflow divergence at snap={snap}, galaxy id={i}, halo id={main_halo_id}: {radial_velocities}')"
   ]
  },
  {
   "cell_type": "code",
   "execution_count": 43,
   "metadata": {},
   "outputs": [
    {
     "name": "stdout",
     "output_type": "stream",
     "text": [
      "Average radial velocity at snap=25, id=96803, halo id=1559: -2.9382014594098673\n",
      "Average radial velocity at snap=33, id=96564, halo id=408: -116.28674115270469\n",
      "Average radial velocity at snap=40, id=120141, halo id=308: -90.0115238480109\n",
      "Average radial velocity at snap=50, id=201642, halo id=472: -21.82044275556473\n",
      "Average radial velocity at snap=59, id=240958, halo id=447: -53.23633741522965\n",
      "Average radial velocity at snap=67, id=278074, halo id=456: 109.34371169950631\n",
      "Average radial velocity at snap=72, id=271683, halo id=327: -139.63957871811675\n",
      "Average radial velocity at snap=78, id=288976, halo id=306: -173.53779382844962\n",
      "Average radial velocity at snap=84, id=311161, halo id=305: 72.01256520190039\n",
      "Average radial velocity at snap=91, id=328073, halo id=285: 35.2134157474292\n",
      "Average radial velocity at snap=99, id=356678, halo id=307: 37.693491101592976\n"
     ]
    }
   ],
   "source": [
    "def calculate_radial_velocity(positions, velocities, agn_position):\n",
    "    # Calculate the relative positions and distances of the particles\n",
    "    relative_positions = positions - agn_position\n",
    "    distances = np.linalg.norm(relative_positions, axis=1)\n",
    "\n",
    "    # Calculate the radial velocities\n",
    "    radial_velocities = np.sum(relative_positions * velocities, axis=1) / distances\n",
    "\n",
    "    return radial_velocities\n",
    "\n",
    "# Define lists to store the results\n",
    "average_radial_velocity_list = []\n",
    "\n",
    "\n",
    "# Loop over each subhalo ID and there snapshot\n",
    "for snap, i in zip(snapshots, ids):\n",
    "    # Get the main halo ID (Group Number) for the subhalo\n",
    "    main_halo_id = il.groupcat.loadSingle(basePath, snap, subhaloID=i)['SubhaloGrNr']\n",
    "    \n",
    "    # Load the properties of the main halo\n",
    "    main_halo_properties = il.groupcat.loadSingle(basePath, snap, haloID=main_halo_id)\n",
    "    \n",
    "    # Get the position of the main halo\n",
    "    agn_position = main_halo_properties['GroupPos']\n",
    "    \n",
    "    # Load the particle data for the halo\n",
    "    part_data = il.snapshot.loadHalo(basePath, snap, main_halo_id, partType='gas', fields=['Coordinates', 'Velocities'])\n",
    "\n",
    "    # Calculate the radial velocities\n",
    "    radial_velocities = calculate_radial_velocity(part_data['Coordinates'], part_data['Velocities'], agn_position)\n",
    "\n",
    "    # Calculate the average radial velocity\n",
    "    average_radial_velocity = np.mean(radial_velocities)\n",
    "    \n",
    "    average_radial_velocity_list.append(average_radial_velocity)\n",
    "\n",
    "    # Print the average radial velocity\n",
    "    print(f'Average radial velocity at snap={snap}, id={i}, halo id={main_halo_id}: {average_radial_velocity}')\n",
    "    \n",
    "df = pd.read_csv('TNG_356678.csv')\n",
    "df['Average radial velocity'] = average_radial_velocity_list\n",
    "df.to_csv('TNG_356678.csv', index=False)"
   ]
  },
  {
   "cell_type": "code",
   "execution_count": 14,
   "metadata": {},
   "outputs": [
    {
     "name": "stdout",
     "output_type": "stream",
     "text": [
      "Blackhole Masses at snap=25, id=96803: 6.370173778762788\n",
      "Blackhole Masses at snap=33, id=96564: 7.370328908410828\n",
      "Blackhole Masses at snap=40, id=120141: 8.432381531927017\n",
      "Blackhole Masses at snap=50, id=201642: 8.464915414905404\n",
      "Blackhole Masses at snap=59, id=240958: 8.644740541490659\n",
      "Blackhole Masses at snap=67, id=278074: 8.645741205204855\n",
      "Blackhole Masses at snap=72, id=271683: 8.646309811009512\n",
      "Blackhole Masses at snap=78, id=288976: 8.787479553489995\n",
      "Blackhole Masses at snap=84, id=311161: 8.787574060327197\n",
      "Blackhole Masses at snap=91, id=328073: 8.78775098135487\n",
      "Blackhole Masses at snap=99, id=356678: 8.905788928250107\n"
     ]
    }
   ],
   "source": [
    "# List to store BH masses\n",
    "bhmass_values = []\n",
    "\n",
    "fields = 'BH_Mass'\n",
    "\n",
    "# Loop over each subhalo ID and there snapshot\n",
    "for snap, id in zip(snapshots, ids):\n",
    "    # Load the BH data for this snapshot and subhalo ID.\n",
    "    bh_data = il.snapshot.loadSubhalo(basePath, snap, id, \"BH\", fields=fields)\n",
    "\n",
    "    # Calculate the BH mass.\n",
    "    if isinstance(bh_data, np.ndarray) and bh_data.size > 0:  # Check if bh_data is a non-empty array.\n",
    "        bh_mass = bh_data[0] * ((1e10) / h) #covert the bh mases\n",
    "    elif isinstance(bh_data, dict) and 'BH_Mass' in bh_data and len(bh_data['BH_Mass']) > 0:  # Check if there is BH data.\n",
    "        bh_mass = bh_data['BH_Mass'][0] * ((1e10) / h)\n",
    "    else:  # If no BH data, set the BH mass to zero.\n",
    "        bh_mass = 0.0\n",
    "        \n",
    "    #covert the bh masess to log10 \n",
    "    bh_mass = np.log10(bh_mass)\n",
    "\n",
    "    # Append the BH mass to the list.\n",
    "    bhmass_values.append(bh_mass)\n",
    "    \n",
    "    print(f'Blackhole Masses at snap={snap}, id={id}: {bh_mass}')\n",
    "    \n",
    "df = pd.read_csv('TNG_356678.csv')\n",
    "df['Blackhole Masses'] = bhmass_values\n",
    "df.to_csv('TNG_356678.csv', index=False)"
   ]
  },
  {
   "cell_type": "code",
   "execution_count": 16,
   "metadata": {},
   "outputs": [
    {
     "name": "stdout",
     "output_type": "stream",
     "text": [
      "Bhmdot:\n",
      "11\n"
     ]
    }
   ],
   "source": [
    "# List to store BHmdot\n",
    "bhmdot_values = []\n",
    "\n",
    "fields = 'BH_Mdot'\n",
    "\n",
    "# Loop over each subhalo ID and there snapshot\n",
    "for snap, id in zip(snapshots, ids):\n",
    "    # Load the BH data for this snapshot and subhalo ID.\n",
    "    bh_data = il.snapshot.loadSubhalo(basePath, snap, id, \"BH\", fields=fields)\n",
    "\n",
    "    # Calculate the BHmdot.\n",
    "    if isinstance(bh_data, np.ndarray) and bh_data.size > 0:  # Check if bh_data is a non-empty array.\n",
    "        bh_dot = bh_data[0] * ((1e10 * Msun) / (h * Gyr_to_s)) #covert the BHmdot\n",
    "    elif isinstance(bh_data, dict) and 'BH_Mdot' in bh_data and len(bh_data['BH_Mdot']) > 0:  # Check if there is BH data.\n",
    "        bh_dot = bh_data['BH_Mdot'][0] * ((1e10 * Msun) / (h * Gyr_to_s))\n",
    "    else:  # If no BH data, set the BHmdot to zero.\n",
    "        bh_dot = 0.0\n",
    "        \n",
    "    #covert the BHmdot to log10 \n",
    "    bh_dot = np.log10(bh_dot)\n",
    "\n",
    "    # Append the BHmdot to the list.\n",
    "    bhmdot_values.append(bh_dot)\n",
    "    \n",
    "    \n",
    "# Print the BHmdot\n",
    "print(\"Bhmdot:\")\n",
    "print(len(bhmdot_values)) \n",
    "\n",
    "df = pd.read_csv('TNG_356678.csv')\n",
    "df['Bhmdot'] = bhmdot_values\n",
    "df.to_csv('TNG_356678.csv', index=False)"
   ]
  },
  {
   "cell_type": "code",
   "execution_count": 17,
   "metadata": {},
   "outputs": [
    {
     "name": "stdout",
     "output_type": "stream",
     "text": [
      "Subhalo SFR at snap=25, id=96803: 10.680899620056152\n",
      "Subhalo SFR at snap=33, id=96564: 6.569467067718506\n",
      "Subhalo SFR at snap=40, id=120141: 7.045799732208252\n",
      "Subhalo SFR at snap=50, id=201642: 4.465848922729492\n",
      "Subhalo SFR at snap=59, id=240958: 0.5010089874267578\n",
      "Subhalo SFR at snap=67, id=278074: 0.5450125336647034\n",
      "Subhalo SFR at snap=72, id=271683: 0.0\n",
      "Subhalo SFR at snap=78, id=288976: 0.0\n",
      "Subhalo SFR at snap=84, id=311161: 0.0\n",
      "Subhalo SFR at snap=91, id=328073: 0.0045074354857206345\n",
      "Subhalo SFR at snap=99, id=356678: 0.0\n"
     ]
    }
   ],
   "source": [
    "# List to store Star formation rate\n",
    "sfr_values = []\n",
    "\n",
    "# Loop over each subhalo ID and there snapshot\n",
    "for snap, i in zip(snapshots, ids):\n",
    "    #load the galaxies\n",
    "    sfr = il.groupcat.loadSingle(basePath, snap, subhaloID=i)\n",
    "    #extract the value of the sfr\n",
    "    sfr_value = sfr['SubhaloSFRinHalfRad']\n",
    "    sfr_values.append(sfr_value)\n",
    "    print(f'Subhalo SFR at snap={snap}, id={i}: {sfr_value}')\n",
    "\n",
    "df = pd.read_csv('TNG_356678.csv')\n",
    "df['SFR'] = sfr_values\n",
    "df.to_csv('TNG_356678.csv', index=False)"
   ]
  },
  {
   "cell_type": "code",
   "execution_count": 18,
   "metadata": {},
   "outputs": [
    {
     "name": "stdout",
     "output_type": "stream",
     "text": [
      "χ values:\n",
      "[0.1272362718376173, 0.06462044933285588, 0.037918104279350134, 0.0015298769151240034, 8.037821224018839e-05, 0.00011252791718308706, 4.305816027828831e-06, 7.129093103726728e-05, 1.0071976263136576e-05, 2.5737570410538862e-05, 0.00010184179276810813]\n"
     ]
    }
   ],
   "source": [
    "# Create empty list to store of fraction χ of the Eddington accretion rate values\n",
    "χ_rate_list = []\n",
    "\n",
    "fields=[\"BH_Mass\", \"BH_Mdot\", \"BH_MdotEddington\"]\n",
    "\n",
    "# Loop over each subhalo ID and there snapshot\n",
    "for snapshot, id in zip(snapshots, ids):\n",
    "    # Load black hole properties for specific subhalo\n",
    "    blackholes = il.snapshot.loadSubhalo(basePath, snapshot, id, \"BH\", fields=fields)\n",
    "    \n",
    "    # Calculate the BHdot.\n",
    "    if isinstance(blackholes, np.ndarray) and blackholes.size > 0 and blackholes['BH_Mdot'][0] != 0:  \n",
    "        bhdot = blackholes['BH_Mdot'][0]\n",
    "    elif isinstance(blackholes, dict) and 'BH_Mdot' in blackholes and len(blackholes['BH_Mdot']) > 0 and blackholes['BH_Mdot'][0] != 0: \n",
    "        bhdot = blackholes['BH_Mdot'][0]\n",
    "    else:  \n",
    "        bhdot = np.nan  # Set to np.nan so that the resulting χ_rate will be np.nan.\n",
    "        \n",
    "    # Calculate the BH eddington.\n",
    "    if isinstance(blackholes, np.ndarray) and blackholes.size > 0 and blackholes['BH_MdotEddington'][0] != 0:  \n",
    "        bhedd = blackholes['BH_MdotEddington'][0]\n",
    "    elif isinstance(blackholes, dict) and 'BH_MdotEddington' in blackholes and len(blackholes['BH_MdotEddington']) > 0 and blackholes['BH_MdotEddington'][0] != 0:  \n",
    "        bhedd = blackholes['BH_MdotEddington'][0]\n",
    "    else:  \n",
    "        bhedd = np.nan  # Set to np.nan so that the resulting χ_rate will be np.nan.\n",
    "\n",
    "        \n",
    "    # Calculate χ_rate\n",
    "    χ_rate = (bhdot / bhedd)\n",
    "\n",
    "    \n",
    "    # Append χ_rate to the list\n",
    "    χ_rate_list.append(χ_rate)\n",
    "\n",
    "\n",
    "# Print fraction χ values\n",
    "print(\"χ values:\")\n",
    "print(χ_rate_list)\n",
    "\n",
    "df = pd.read_csv('TNG_356678.csv')\n",
    "df['χ'] = χ_rate_list\n",
    "df.to_csv('TNG_356678.csv', index=False)"
   ]
  },
  {
   "cell_type": "code",
   "execution_count": 19,
   "metadata": {},
   "outputs": [
    {
     "name": "stdout",
     "output_type": "stream",
     "text": [
      "Bol Luminosity values:\n",
      "[43.733582485092974, 44.43953228909794, 45.27007952986092, 43.90842568093318, 42.80873429982899, 42.955856834591486, 41.539220821504145, 42.899369270826, 42.049544302222266, 42.457174054736804, 43.17257029461477]\n"
     ]
    }
   ],
   "source": [
    "# Create empty list to store the bolometric luminosity values\n",
    "L_list = []\n",
    "\n",
    "fields=[\"BH_Mass\", \"BH_Mdot\"]\n",
    "\n",
    "# Loop over each subhalo ID and there snapshot\n",
    "for snapshot, id in zip(snapshots, ids):\n",
    "    # Load black hole properties for specific subhalo\n",
    "    blackholes = il.snapshot.loadSubhalo(basePath, snapshot, id, \"BH\", fields=fields)\n",
    "    \n",
    "    # Calculate the BHdot.\n",
    "    if isinstance(blackholes, np.ndarray) and blackholes.size > 0 and blackholes['BH_Mdot'][0] != 0:  \n",
    "        bhdot = blackholes['BH_Mdot'][0] * ((1e10 * Msun) / (h * Gyr_to_s))\n",
    "    elif isinstance(blackholes, dict) and 'BH_Mdot' in blackholes and len(blackholes['BH_Mdot']) > 0 and blackholes['BH_Mdot'][0] != 0: \n",
    "        bhdot = blackholes['BH_Mdot'][0] * ((1e10 * Msun) / (h * Gyr_to_s))\n",
    "    else:  \n",
    "        bhdot = np.nan  # Set to np.nan so that the resulting L_bol will be np.nan.\n",
    "\n",
    "    # Calculate L_bol\n",
    "    L_bol = e_r * bhdot * c**2\n",
    "\n",
    "    \n",
    "    # Append bolometric luminosity to the list\n",
    "    L_list.append(np.log10(L_bol))\n",
    "\n",
    "\n",
    "# Print bolometric luminosity values\n",
    "print(\"Bol Luminosity values:\")\n",
    "print(L_list)\n",
    "\n",
    "df = pd.read_csv('TNG_356678.csv')\n",
    "df['L_bol'] = L_list\n",
    "df.to_csv('TNG_356678.csv', index=False)"
   ]
  },
  {
   "cell_type": "code",
   "execution_count": 20,
   "metadata": {},
   "outputs": [
    {
     "name": "stdout",
     "output_type": "stream",
     "text": [
      "Edd Luminosity values:\n",
      "[44.6289715497761, 45.629162315575684, 46.69123291326235, 46.72376918948338, 46.9035959573765, 46.90459655414875, 46.90516535147548, 47.046334984325846, 47.04642960863328, 47.04660650700516, 47.164644258815564]\n"
     ]
    }
   ],
   "source": [
    "# Create empty list to store the Eddington luminosity values\n",
    "L_edd_list = []\n",
    "\n",
    "e_r = 0.2\n",
    "\n",
    "fields=[\"BH_Mass\", \"BH_MdotEddington\"]\n",
    "\n",
    "# Loop over each subhalo ID and there snapshot\n",
    "for snapshot, id in zip(snapshots, ids):\n",
    "    # Load black hole properties for specific subhalo\n",
    "    blackholes = il.snapshot.loadSubhalo(basePath, snapshot, id, \"BH\", fields=fields)\n",
    "    \n",
    "    # Calculate the BH eddington.\n",
    "    if isinstance(blackholes, np.ndarray) and blackholes.size > 0 and blackholes['BH_MdotEddington'][0] != 0:  \n",
    "        bhedd = blackholes['BH_MdotEddington'][0] * ((1e10 * Msun) / (h * Gyr_to_s))\n",
    "    elif isinstance(blackholes, dict) and 'BH_MdotEddington' in blackholes and len(blackholes['BH_MdotEddington']) > 0 and blackholes['BH_MdotEddington'][0] != 0: \n",
    "        bhedd = blackholes['BH_MdotEddington'][0] * ((1e10 * Msun) / (h * Gyr_to_s))\n",
    "    else:  \n",
    "        bhedd = np.nan  # Set to np.nan so that the resulting L_edd will be np.nan.\n",
    "\n",
    "\n",
    "    # Calculate L_edd\n",
    "    L_edd = e_r * bhedd * c**2\n",
    "\n",
    "    \n",
    "    # Append Eddington luminosity to the list\n",
    "    L_edd_list.append(np.log10(L_edd))\n",
    "\n",
    "\n",
    "# Print Eddington luminosity values\n",
    "print(\"Edd Luminosity values:\")\n",
    "print(L_edd_list)\n",
    "\n",
    "df = pd.read_csv('TNG_356678.csv')\n",
    "df['L_edd'] = L_edd_list\n",
    "df.to_csv('TNG_356678.csv', index=False)"
   ]
  },
  {
   "cell_type": "code",
   "execution_count": 21,
   "metadata": {},
   "outputs": [
    {
     "name": "stdout",
     "output_type": "stream",
     "text": [
      "E_feed values:\n",
      "[43.733582485092974, 44.43953228909794, 45.27007952986092, 43.90842568093318, 42.80873429982899, 42.955856834591486, 41.539220821504145, 42.899369270826, 42.049544302222266, 42.457174054736804, 43.17257029461477]\n"
     ]
    }
   ],
   "source": [
    "# Create empty list to store the feedback energy of the AGN values\n",
    "E_feed_list = []\n",
    "\n",
    "\n",
    "Msun = 1.989e33 # in grams\n",
    "Gyr_to_s = 3.15576e16 # in seconds\n",
    "h = 0.6774\n",
    "\n",
    "fields=[\"BH_Mass\", \"BH_Mdot\"]\n",
    "\n",
    "# Loop over each subhalo ID and there snapshot\n",
    "for snapshot, id in zip(snapshots, ids):\n",
    "    # Load black hole properties for specific subhalo\n",
    "    blackholes = il.snapshot.loadSubhalo(basePath, snapshot, id, \"BH\", fields=fields)\n",
    "    \n",
    "    # Calculate the BHdot.\n",
    "    if isinstance(blackholes, np.ndarray) and blackholes.size > 0 and blackholes['BH_Mdot'][0] != 0:  \n",
    "        bhdot = blackholes['BH_Mdot'][0] * ((1e10 * Msun) / (h * Gyr_to_s))\n",
    "    elif isinstance(blackholes, dict) and 'BH_Mdot' in blackholes and len(blackholes['BH_Mdot']) > 0 and blackholes['BH_Mdot'][0] != 0: \n",
    "        bhdot = blackholes['BH_Mdot'][0] * ((1e10 * Msun) / (h * Gyr_to_s))\n",
    "    else:  \n",
    "        bhdot = np.nan  # Set to np.nan so that the resulting feedback energy will be np.nan.\n",
    "\n",
    "        \n",
    "    # Calculate feedback energy\n",
    "    E_feed = e_fm * bhdot * c**2\n",
    "\n",
    "    \n",
    "    # Append feedback energy to the list\n",
    "    E_feed_list.append(np.log10(E_feed))\n",
    "\n",
    "\n",
    "# Print feedback energy values\n",
    "print(\"E_feed values:\")\n",
    "print(E_feed_list)\n",
    "\n",
    "df = pd.read_csv('TNG_356678.csv')\n",
    "df['E_feed'] = E_feed_list\n",
    "df.to_csv('TNG_356678.csv', index=False)"
   ]
  },
  {
   "cell_type": "code",
   "execution_count": 22,
   "metadata": {},
   "outputs": [
    {
     "name": "stdout",
     "output_type": "stream",
     "text": [
      "Logarithmic QM and RM at snap=25, id=96803: 7.556433713848855, 0.0\n",
      "Logarithmic QM and RM at snap=33, id=96564: 8.197371914880465, 0.0\n",
      "Logarithmic QM and RM at snap=40, id=120141: 8.735696139150791, 7.554584806730827\n",
      "Logarithmic QM and RM at snap=50, id=201642: 8.747127644491538, 8.34704293231268\n",
      "Logarithmic QM and RM at snap=59, id=240958: 8.837499172419474, 8.448783889357728\n",
      "Logarithmic QM and RM at snap=67, id=278074: 8.837499172419474, 8.477912683209903\n",
      "Logarithmic QM and RM at snap=72, id=271683: 8.837499172419474, 8.492900304714018\n",
      "Logarithmic QM and RM at snap=78, id=288976: 8.909643347364911, 8.501751555054366\n",
      "Logarithmic QM and RM at snap=84, id=311161: 8.909643347364911, 8.50490701806866\n",
      "Logarithmic QM and RM at snap=91, id=328073: 8.909643347364911, 8.510687559180933\n",
      "Logarithmic QM and RM at snap=99, id=356678: 8.968669421430858, 8.571716392587753\n"
     ]
    },
    {
     "name": "stderr",
     "output_type": "stream",
     "text": [
      "/opt/conda/lib/python3.6/site-packages/ipykernel_launcher.py:17: RuntimeWarning: divide by zero encountered in log10\n"
     ]
    }
   ],
   "source": [
    "# Prepare empty lists to store the logarithm values\n",
    "QM_values = []\n",
    "RM_values = []\n",
    "\n",
    "# Loop over each subhalo ID and their snapshot\n",
    "for snapshot, id in zip(snapshots, ids):\n",
    "    # Load necessary fields\n",
    "    fields = ['BH_CumEgyInjection_QM', 'BH_CumEgyInjection_RM']\n",
    "    data = il.snapshot.loadSubhalo(basePath, snapshot, id, 'BH', fields=fields)\n",
    "    \n",
    "    # Convert units\n",
    "    BH_CumEgyInjection_QM_phys = np.sqrt(data['BH_CumEgyInjection_QM'] * 1e10 / 0.7 / (0.978 / 0.7)**2)\n",
    "    BH_CumEgyInjection_RM_phys = np.sqrt(data['BH_CumEgyInjection_RM'] * 1e10 / 0.7 / (0.978 / 0.7)**2)\n",
    "\n",
    "    # Calculate the logarithm and replace -inf with 0\n",
    "    QM_log = np.log10(BH_CumEgyInjection_QM_phys)\n",
    "    RM_log = np.log10(BH_CumEgyInjection_RM_phys)\n",
    "    \n",
    "    QM_log[np.isneginf(QM_log)] = 0\n",
    "    RM_log[np.isneginf(RM_log)] = 0\n",
    "\n",
    "    QM_values.append(QM_log[0])  # Only store the first (and only) value in the array\n",
    "    RM_values.append(RM_log[0])  # Only store the first (and only) value in the array\n",
    "\n",
    "    print(f'Logarithmic QM and RM at snap={snapshot}, id={id}: {QM_log[0]}, {RM_log[0]}')\n",
    "    \n",
    "df = pd.read_csv('TNG_356678.csv')\n",
    "df['Log_EQM'] = QM_values\n",
    "df['Log_ERM'] = RM_values\n",
    "df.to_csv('TNG_356678.csv', index=False)"
   ]
  },
  {
   "cell_type": "code",
   "execution_count": 16,
   "metadata": {},
   "outputs": [
    {
     "name": "stdout",
     "output_type": "stream",
     "text": [
      "   Redshift (z)  Average divergence  Average radial velocity  \\\n",
      "0           3.0           -2.514770               -59.051962   \n",
      "1           2.0           -8.658848               -56.661693   \n",
      "2           1.5           -7.134847               -58.604299   \n",
      "3           1.0            1.663542               -61.221945   \n",
      "4           0.7           -1.718992               -32.015236   \n",
      "\n",
      "   Blackhole Masses     Bhmdot        SFR         χ      L_bol      L_edd  \\\n",
      "0          6.370174  23.478911  10.680900  0.127236  43.733582  44.628972   \n",
      "1          7.370329  24.184861   6.569467  0.064620  44.439532  45.629162   \n",
      "2          8.432382  25.015408   7.045800  0.037918  45.270080  46.691233   \n",
      "3          8.464915  23.653754   4.465849  0.001530  43.908426  46.723769   \n",
      "4          8.644741  22.554063   0.501009  0.000080  42.808734  46.903596   \n",
      "\n",
      "      E_feed   Log_EQM   Log_ERM  Average divergence of Halo  \n",
      "0  43.733582  7.556434  0.000000                   -1.850562  \n",
      "1  44.439532  8.197372  0.000000                   -8.505021  \n",
      "2  45.270080  8.735696  7.554585                   -6.879848  \n",
      "3  43.908426  8.747128  8.347043                    3.792463  \n",
      "4  42.808734  8.837499  8.448784                   -0.027624  \n"
     ]
    }
   ],
   "source": [
    "#lets view the compilation of the file \n",
    "df = pd.read_csv('TNG_356678.csv')\n",
    "print(df.head())"
   ]
  },
  {
   "cell_type": "markdown",
   "metadata": {},
   "source": [
    "---------------------------------------"
   ]
  },
  {
   "cell_type": "markdown",
   "metadata": {},
   "source": [
    "### Next galaxy is id=359811\n",
    "\n",
    "##### same process as the above"
   ]
  },
  {
   "cell_type": "code",
   "execution_count": 44,
   "metadata": {},
   "outputs": [
    {
     "name": "stdout",
     "output_type": "stream",
     "text": [
      "Progenitor of 359811 at snap=99 is 359811\n",
      "Progenitor of 359811 at snap=91 is 338697\n",
      "Progenitor of 359811 at snap=84 is 319869\n",
      "Progenitor of 359811 at snap=78 is 294528\n",
      "Progenitor of 359811 at snap=72 is 273082\n",
      "Progenitor of 359811 at snap=67 is 249122\n",
      "Progenitor of 359811 at snap=59 is 212733\n",
      "Progenitor of 359811 at snap=50 is 174022\n",
      "Progenitor of 359811 at snap=40 is 197345\n",
      "Progenitor of 359811 at snap=33 is 126942\n",
      "Progenitor of 359811 at snap=25 is 49799\n",
      "[49799, 126942, 197345, 174022, 212733, 249122, 273082, 294528, 319869, 338697, 359811]\n"
     ]
    }
   ],
   "source": [
    "ids = [359811] #galaxy id\n",
    "target_snaps = [99, 91, 84, 78, 72, 67, 59, 50, 40, 33, 25]  # list of target snapshots here\n",
    "# the target snapshots list are the 11 out the 20 full snapshots that illustrisTNG have \n",
    "# 99 snapshots corresponds to z=0 and the 25 snapshot to z=3\n",
    "\n",
    "progenitor_ids_list = []\n",
    "\n",
    "for id in ids:\n",
    "    id_progenitors = []\n",
    "    start_url = \"http://www.tng-project.org/api/TNG100-1/snapshots/99/subhalos/\" + str(id)\n",
    "    sub = get(start_url)\n",
    "    current_snap = 99\n",
    "\n",
    "    for snap in target_snaps:\n",
    "        while current_snap > snap:\n",
    "            # request the full subhalo details of the progenitor by following the sublink URL\n",
    "            try:\n",
    "                sub = get(sub['related']['sublink_progenitor'])\n",
    "                current_snap = sub['snap']\n",
    "            except KeyError:  # KeyError occurs if there's no progenitor\n",
    "                break  # exit the while loop and go to the next snap\n",
    "\n",
    "        if current_snap == snap:  # if the snapshot has a progenitor\n",
    "            id_progenitors.append(sub['id'])\n",
    "            print(f'Progenitor of {id} at snap={snap} is {sub[\"id\"]}')\n",
    "        else:\n",
    "            print(f'Progenitor of {id} not followed to snap={snap}!')\n",
    "            id_progenitors.append(-1)\n",
    "\n",
    "    progenitor_ids_list.append(id_progenitors)\n",
    "\n",
    "# Transpose the list to match the target_snap order\n",
    "progenitor_ids_list = list(map(list, zip(*progenitor_ids_list)))\n",
    "\n",
    "# Exclude -1 values\n",
    "progenitor_ids_list = [sublist for sublist in progenitor_ids_list if sublist != [-1]*len(ids)]\n",
    "\n",
    "# Flatten the list\n",
    "progenitor_ids_list = [id for sublist in progenitor_ids_list for id in sublist]\n",
    "\n",
    "# Reverse the list\n",
    "progenitor_ids_list.reverse()\n",
    "\n",
    "print(progenitor_ids_list)"
   ]
  },
  {
   "cell_type": "code",
   "execution_count": 45,
   "metadata": {},
   "outputs": [
    {
     "name": "stdout",
     "output_type": "stream",
     "text": [
      "[25, 33, 40, 50, 59, 67, 72, 78, 84, 91, 99]\n",
      "[49799, 126942, 197345, 174022, 212733, 249122, 273082, 294528, 319869, 338697, 359811]\n"
     ]
    }
   ],
   "source": [
    "# target snapshots\n",
    "snapshots = [25, 33, 40, 50, 59, 67, 72, 78, 84, 91, 99]\n",
    "print(snapshots)\n",
    "#below are the ids that were found from above\n",
    "ids = progenitor_ids_list\n",
    "print(ids)"
   ]
  },
  {
   "cell_type": "code",
   "execution_count": 26,
   "metadata": {},
   "outputs": [],
   "source": [
    "#Redshift are stored in the list `redshift`\n",
    "redshift = [3, 2, 1.5, 1, 0.7, 0.5, 0.4, 0.3, 0.2, 0.1, 0]\n",
    "\n",
    "# Create a DataFrame from your data\n",
    "df = pd.DataFrame({\n",
    "    'Redshift (z)': redshift\n",
    "})\n",
    "\n",
    "# Write the DataFrame to a CSV file\n",
    "df.to_csv('TNG_359811.csv', index=False)"
   ]
  },
  {
   "cell_type": "code",
   "execution_count": 16,
   "metadata": {},
   "outputs": [
    {
     "name": "stdout",
     "output_type": "stream",
     "text": [
      "Average divergence at snap=25, id=49799: -9.89590388656503\n",
      "Average divergence at snap=33, id=126942: 0.5538550057210475\n",
      "Average divergence at snap=40, id=197345: -1.918578351872921\n",
      "Average divergence at snap=50, id=174022: 0.4811434569430351\n",
      "Average divergence at snap=59, id=212733: -3.3187322060286255\n",
      "Average divergence at snap=67, id=249122: -4.453222958387107\n",
      "Average divergence at snap=72, id=273082: -2.2050028785291054\n",
      "Average divergence at snap=78, id=294528: -0.9650238176932335\n",
      "Average divergence at snap=84, id=319869: -1.4605270234358907\n",
      "Average divergence at snap=91, id=338697: -2.1267182803992855\n",
      "Average divergence at snap=99, id=359811: -1.3723239656087756\n"
     ]
    }
   ],
   "source": [
    "def calculate_divergence(part_data, agn_position):\n",
    "    # Calculate the position of the particles relative to the AGN\n",
    "    relative_pos = part_data['Coordinates'] - agn_position\n",
    "\n",
    "    # Calculate the position boundaries\n",
    "    padding = 1  # This value can be adhust as needed\n",
    "    min_x, min_y, min_z = np.min(relative_pos, axis=0) - padding\n",
    "    max_x, max_y, max_z = np.max(relative_pos, axis=0) + padding\n",
    "\n",
    "    # Create a grid\n",
    "    grid_x, grid_y, grid_z = np.mgrid[min_x:max_x:100j, min_y:max_y:100j, min_z:max_z:100j]\n",
    "\n",
    "    # Interpolate the velocities onto the grid\n",
    "    grid_vx = interpolate.griddata(relative_pos, part_data['Velocities'][:, 0], (grid_x, grid_y, grid_z), method='nearest')\n",
    "    grid_vy = interpolate.griddata(relative_pos, part_data['Velocities'][:, 1], (grid_x, grid_y, grid_z), method='nearest')\n",
    "    grid_vz = interpolate.griddata(relative_pos, part_data['Velocities'][:, 2], (grid_x, grid_y, grid_z), method='nearest')\n",
    "\n",
    "    # Calculate the divergence\n",
    "    divergence = np.gradient(grid_vx, axis=0) + np.gradient(grid_vy, axis=1) + np.gradient(grid_vz, axis=2)\n",
    "    \n",
    "    # Return the average divergence    \n",
    "    return np.mean(divergence)\n",
    "\n",
    "# Define lists to store the results\n",
    "avg_divergence_list = []\n",
    "\n",
    "# Loop over each subhalo ID and there snapshot\n",
    "for snap, i in zip(snapshots, ids):\n",
    "    # Load the particle data for the subhalo\n",
    "    part_data = il.snapshot.loadSubhalo(basePath, snap, i, partType='gas', fields=['Coordinates', 'Velocities'])\n",
    "    \n",
    "    agn_position = il.groupcat.loadSingle(basePath, snap, subhaloID=i)\n",
    "    agn_position = agn_position['SubhaloPos']\n",
    "\n",
    "    # Calculate the divergence\n",
    "    average_divergence = calculate_divergence(part_data, agn_position)\n",
    "\n",
    "    # Store the results\n",
    "    avg_divergence_list.append(average_divergence)\n",
    "\n",
    "    # Print the average divergence\n",
    "    print(f'Average divergence at snap={snap}, id={i}: {average_divergence}')\n",
    "#read the file    \n",
    "df = pd.read_csv('TNG_359811.csv')\n",
    "#append them to the new column \n",
    "df['Average divergence'] = avg_divergence_list\n",
    "df.to_csv('TNG_359811.csv', index=False)"
   ]
  },
  {
   "cell_type": "code",
   "execution_count": 17,
   "metadata": {},
   "outputs": [
    {
     "name": "stdout",
     "output_type": "stream",
     "text": [
      "Average divergence at snap=25, galaxy id=49799, halo id=430: -9.932913760241568\n",
      "Average divergence at snap=33, galaxy id=126942, halo id=750: 6.270533987825393\n",
      "Average divergence at snap=40, galaxy id=197345, halo id=1063: 11.122477331091403\n",
      "Average divergence at snap=50, galaxy id=174022, halo id=320: -1.9596908479932547\n",
      "Average divergence at snap=59, galaxy id=212733, halo id=306: -2.322404931601271\n",
      "Average divergence at snap=67, galaxy id=249122, halo id=314: -4.426787411938697\n",
      "Average divergence at snap=72, galaxy id=273082, halo id=333: -2.1302142467596865\n",
      "Average divergence at snap=78, galaxy id=294528, halo id=329: -0.6422435652596951\n",
      "Average divergence at snap=84, galaxy id=319869, halo id=341: -1.0763225282300115\n",
      "Average divergence at snap=91, galaxy id=338697, halo id=327: -2.01090569406005\n",
      "Average divergence at snap=99, galaxy id=359811, halo id=319: -1.1613946297988296\n"
     ]
    }
   ],
   "source": [
    "def calculate_divergence(part_data, agn_position):\n",
    "    # Calculate the position of the particles relative to the AGN\n",
    "    relative_pos = part_data['Coordinates'] - agn_position\n",
    "\n",
    "    # Calculate the position boundaries\n",
    "    padding = 1  # This value can be adjusted as needed\n",
    "    min_x, min_y, min_z = np.min(relative_pos, axis=0) - padding\n",
    "    max_x, max_y, max_z = np.max(relative_pos, axis=0) + padding\n",
    "\n",
    "    # Create a grid\n",
    "    grid_x, grid_y, grid_z = np.mgrid[min_x:max_x:100j, min_y:max_y:100j, min_z:max_z:100j]\n",
    "\n",
    "    # Interpolate the velocities onto the grid\n",
    "    grid_vx = interpolate.griddata(relative_pos, part_data['Velocities'][:, 0], (grid_x, grid_y, grid_z), method='nearest')\n",
    "    grid_vy = interpolate.griddata(relative_pos, part_data['Velocities'][:, 1], (grid_x, grid_y, grid_z), method='nearest')\n",
    "    grid_vz = interpolate.griddata(relative_pos, part_data['Velocities'][:, 2], (grid_x, grid_y, grid_z), method='nearest')\n",
    "\n",
    "    # Calculate the divergence\n",
    "    divergence = np.gradient(grid_vx, axis=0) + np.gradient(grid_vy, axis=1) + np.gradient(grid_vz, axis=2)\n",
    "    \n",
    "    # Return the average divergence    \n",
    "    return np.mean(divergence)\n",
    "\n",
    "# Define lists to store the results\n",
    "avg_divergence_list = []\n",
    "\n",
    "# Loop over each subhalo ID and their snapshot\n",
    "for snap, i in zip(snapshots, ids):\n",
    "    # Get the main halo ID (Group Number) for the subhalo\n",
    "    main_halo_id = il.groupcat.loadSingle(basePath, snap, subhaloID=i)['SubhaloGrNr']\n",
    "    \n",
    "    # Load the properties of the main halo\n",
    "    main_halo_properties = il.groupcat.loadSingle(basePath, snap, haloID=main_halo_id)\n",
    "    \n",
    "    # Get the position of the main halo\n",
    "    agn_position = main_halo_properties['GroupPos']\n",
    "    \n",
    "    # Load the particle data for the halo\n",
    "    part_data = il.snapshot.loadHalo(basePath, snap, main_halo_id, partType='gas', fields=['Coordinates', 'Velocities'])\n",
    "\n",
    "    # Calculate the divergence\n",
    "    average_divergence = calculate_divergence(part_data, agn_position)\n",
    "\n",
    "    # Store the results\n",
    "    avg_divergence_list.append(average_divergence)\n",
    "\n",
    "    # Print the average divergence\n",
    "    print(f'Average divergence at snap={snap}, galaxy id={i}, halo id={main_halo_id}: {average_divergence}')\n",
    "#read the file    \n",
    "df = pd.read_csv('TNG_359811.csv')\n",
    "#append them to the new column \n",
    "df['Average divergence of Halo'] = avg_divergence_list\n",
    "df.to_csv('TNG_359811.csv', index=False)"
   ]
  },
  {
   "cell_type": "code",
   "execution_count": 46,
   "metadata": {},
   "outputs": [
    {
     "data": {
      "image/png": "[encoded data removed]",
      "text/plain": [
       "<Figure size 432x288 with 1 Axes>"
      ]
     },
     "metadata": {
      "needs_background": "light"
     },
     "output_type": "display_data"
    },
    {
     "name": "stdout",
     "output_type": "stream",
     "text": [
      "Average outflow divergence at snap=25, galaxy id=49799, halo id=430: [-241.91301655 -212.57902296 -225.23514446 ... 1442.31962261 2418.21442812\n",
      "  239.28908743]\n"
     ]
    },
    {
     "data": {
      "image/png": "[encoded data removed]",
      "text/plain": [
       "<Figure size 432x288 with 1 Axes>"
      ]
     },
     "metadata": {
      "needs_background": "light"
     },
     "output_type": "display_data"
    },
    {
     "name": "stdout",
     "output_type": "stream",
     "text": [
      "Average outflow divergence at snap=33, galaxy id=126942, halo id=750: [-241.91301655 -212.57902296 -225.23514446 ... 1442.31962261 2418.21442812\n",
      "  239.28908743]\n"
     ]
    },
    {
     "data": {
      "image/png": "[encoded data removed]",
      "text/plain": [
       "<Figure size 432x288 with 1 Axes>"
      ]
     },
     "metadata": {
      "needs_background": "light"
     },
     "output_type": "display_data"
    },
    {
     "name": "stdout",
     "output_type": "stream",
     "text": [
      "Average outflow divergence at snap=40, galaxy id=197345, halo id=1063: [-241.91301655 -212.57902296 -225.23514446 ... 1442.31962261 2418.21442812\n",
      "  239.28908743]\n"
     ]
    },
    {
     "data": {
      "image/png": "[encoded data removed]",
      "text/plain": [
       "<Figure size 432x288 with 1 Axes>"
      ]
     },
     "metadata": {
      "needs_background": "light"
     },
     "output_type": "display_data"
    },
    {
     "name": "stdout",
     "output_type": "stream",
     "text": [
      "Average outflow divergence at snap=50, galaxy id=174022, halo id=320: [-241.91301655 -212.57902296 -225.23514446 ... 1442.31962261 2418.21442812\n",
      "  239.28908743]\n"
     ]
    },
    {
     "data": {
      "image/png": "[encoded data removed]",
      "text/plain": [
       "<Figure size 432x288 with 1 Axes>"
      ]
     },
     "metadata": {
      "needs_background": "light"
     },
     "output_type": "display_data"
    },
    {
     "name": "stdout",
     "output_type": "stream",
     "text": [
      "Average outflow divergence at snap=59, galaxy id=212733, halo id=306: [-241.91301655 -212.57902296 -225.23514446 ... 1442.31962261 2418.21442812\n",
      "  239.28908743]\n"
     ]
    },
    {
     "data": {
      "image/png": "[encoded data removed]",
      "text/plain": [
       "<Figure size 432x288 with 1 Axes>"
      ]
     },
     "metadata": {
      "needs_background": "light"
     },
     "output_type": "display_data"
    },
    {
     "name": "stdout",
     "output_type": "stream",
     "text": [
      "Average outflow divergence at snap=67, galaxy id=249122, halo id=314: [-241.91301655 -212.57902296 -225.23514446 ... 1442.31962261 2418.21442812\n",
      "  239.28908743]\n"
     ]
    },
    {
     "data": {
      "image/png": "[encoded data removed]",
      "text/plain": [
       "<Figure size 432x288 with 1 Axes>"
      ]
     },
     "metadata": {
      "needs_background": "light"
     },
     "output_type": "display_data"
    },
    {
     "name": "stdout",
     "output_type": "stream",
     "text": [
      "Average outflow divergence at snap=72, galaxy id=273082, halo id=333: [-241.91301655 -212.57902296 -225.23514446 ... 1442.31962261 2418.21442812\n",
      "  239.28908743]\n"
     ]
    },
    {
     "data": {
      "image/png": "[encoded data removed]",
      "text/plain": [
       "<Figure size 432x288 with 1 Axes>"
      ]
     },
     "metadata": {
      "needs_background": "light"
     },
     "output_type": "display_data"
    },
    {
     "name": "stdout",
     "output_type": "stream",
     "text": [
      "Average outflow divergence at snap=78, galaxy id=294528, halo id=329: [-241.91301655 -212.57902296 -225.23514446 ... 1442.31962261 2418.21442812\n",
      "  239.28908743]\n"
     ]
    },
    {
     "data": {
      "image/png": "[encoded data removed]",
      "text/plain": [
       "<Figure size 432x288 with 1 Axes>"
      ]
     },
     "metadata": {
      "needs_background": "light"
     },
     "output_type": "display_data"
    },
    {
     "name": "stdout",
     "output_type": "stream",
     "text": [
      "Average outflow divergence at snap=84, galaxy id=319869, halo id=341: [-241.91301655 -212.57902296 -225.23514446 ... 1442.31962261 2418.21442812\n",
      "  239.28908743]\n"
     ]
    },
    {
     "data": {
      "image/png": "[encoded data removed]",
      "text/plain": [
       "<Figure size 432x288 with 1 Axes>"
      ]
     },
     "metadata": {
      "needs_background": "light"
     },
     "output_type": "display_data"
    },
    {
     "name": "stdout",
     "output_type": "stream",
     "text": [
      "Average outflow divergence at snap=91, galaxy id=338697, halo id=327: [-241.91301655 -212.57902296 -225.23514446 ... 1442.31962261 2418.21442812\n",
      "  239.28908743]\n"
     ]
    },
    {
     "data": {
      "image/png": "[encoded data removed]",
      "text/plain": [
       "<Figure size 432x288 with 1 Axes>"
      ]
     },
     "metadata": {
      "needs_background": "light"
     },
     "output_type": "display_data"
    },
    {
     "name": "stdout",
     "output_type": "stream",
     "text": [
      "Average outflow divergence at snap=99, galaxy id=359811, halo id=319: [-241.91301655 -212.57902296 -225.23514446 ... 1442.31962261 2418.21442812\n",
      "  239.28908743]\n"
     ]
    }
   ],
   "source": [
    "def visualize_gas_flow(part_data, agn_position):\n",
    "    # Calculate the position of the particles relative to the AGN\n",
    "    relative_pos = part_data['Coordinates'] - agn_position\n",
    "    distances = np.linalg.norm(relative_pos, axis=1)\n",
    "    \n",
    "    # Calculate the radial velocities\n",
    "    radial_velocities = np.sum(relative_pos * part_data['Velocities'], axis=1) / distances\n",
    "    \n",
    "    # Plot radial velocity distribution\n",
    "    plt.hist(radial_velocities, bins=100, color='blue', alpha=0.7)\n",
    "    plt.xlabel('Radial Velocity (km/s)')\n",
    "    plt.ylabel('Number of Particles')\n",
    "    plt.title('Radial Velocity Distribution')\n",
    "    plt.show()\n",
    "\n",
    "# Loop over each subhalo ID and their snapshot\n",
    "for snap, i in zip(snapshots, ids):\n",
    "    # Get the main halo ID (Group Number) for the subhalo\n",
    "    main_halo_id = il.groupcat.loadSingle(basePath, snap, subhaloID=i)['SubhaloGrNr']\n",
    "    \n",
    "    # Load the properties of the main halo\n",
    "    main_halo_properties = il.groupcat.loadSingle(basePath, snap, haloID=main_halo_id)\n",
    "    \n",
    "    # Get the position of the main halo\n",
    "    agn_position = main_halo_properties['GroupPos']\n",
    "    \n",
    "    # Load the particle data for the halo\n",
    "    part_data = il.snapshot.loadHalo(basePath, snap, main_halo_id, partType='gas', fields=['Coordinates', 'Velocities'])\n",
    "    \n",
    "    # Visualize the gas flow\n",
    "    visualize_gas_flow(part_data, agn_position)\n",
    "\n",
    "    # Print the average outflow divergence\n",
    "    print(f'Average outflow divergence at snap={snap}, galaxy id={i}, halo id={main_halo_id}: {radial_velocities}')"
   ]
  },
  {
   "cell_type": "code",
   "execution_count": 47,
   "metadata": {},
   "outputs": [
    {
     "name": "stdout",
     "output_type": "stream",
     "text": [
      "Average radial velocity at snap=25, id=49799, halo id=430: -233.42539525216839\n",
      "Average radial velocity at snap=33, id=126942, halo id=750: -7.7866250318103445\n",
      "Average radial velocity at snap=40, id=197345, halo id=1063: -105.50847725793284\n",
      "Average radial velocity at snap=50, id=174022, halo id=320: -126.96901088978112\n",
      "Average radial velocity at snap=59, id=212733, halo id=306: -58.702187196503836\n",
      "Average radial velocity at snap=67, id=249122, halo id=314: -34.2695444719864\n",
      "Average radial velocity at snap=72, id=273082, halo id=333: -44.947628484453325\n",
      "Average radial velocity at snap=78, id=294528, halo id=329: -40.393357174476186\n",
      "Average radial velocity at snap=84, id=319869, halo id=341: -18.550120466204536\n",
      "Average radial velocity at snap=91, id=338697, halo id=327: -10.568605978591998\n",
      "Average radial velocity at snap=99, id=359811, halo id=319: -28.30307981920601\n"
     ]
    }
   ],
   "source": [
    "def calculate_radial_velocity(positions, velocities, agn_position):\n",
    "    # Calculate the relative positions and distances of the particles\n",
    "    relative_positions = positions - agn_position\n",
    "    distances = np.linalg.norm(relative_positions, axis=1)\n",
    "\n",
    "    # Calculate the radial velocities\n",
    "    radial_velocities = np.sum(relative_positions * velocities, axis=1) / distances\n",
    "\n",
    "    return radial_velocities\n",
    "\n",
    "# Define lists to store the results\n",
    "average_radial_velocity_list = []\n",
    "\n",
    "\n",
    "# Loop over each subhalo ID and there snapshot\n",
    "for snap, i in zip(snapshots, ids):\n",
    "    # Get the main halo ID (Group Number) for the subhalo\n",
    "    main_halo_id = il.groupcat.loadSingle(basePath, snap, subhaloID=i)['SubhaloGrNr']\n",
    "    \n",
    "    # Load the properties of the main halo\n",
    "    main_halo_properties = il.groupcat.loadSingle(basePath, snap, haloID=main_halo_id)\n",
    "    \n",
    "    # Get the position of the main halo\n",
    "    agn_position = main_halo_properties['GroupPos']\n",
    "    \n",
    "    # Load the particle data for the halo\n",
    "    part_data = il.snapshot.loadHalo(basePath, snap, main_halo_id, partType='gas', fields=['Coordinates', 'Velocities'])\n",
    "\n",
    "    # Calculate the radial velocities\n",
    "    radial_velocities = calculate_radial_velocity(part_data['Coordinates'], part_data['Velocities'], agn_position)\n",
    "\n",
    "    # Calculate the average radial velocity\n",
    "    average_radial_velocity = np.mean(radial_velocities)\n",
    "    \n",
    "    average_radial_velocity_list.append(average_radial_velocity)\n",
    "\n",
    "    # Print the average radial velocity\n",
    "    print(f'Average radial velocity at snap={snap}, id={i}, halo id={main_halo_id}: {average_radial_velocity}')\n",
    "    \n",
    "df = pd.read_csv('TNG_359811.csv')\n",
    "df['Average radial velocity'] = average_radial_velocity_list\n",
    "df.to_csv('TNG_359811.csv', index=False)  "
   ]
  },
  {
   "cell_type": "code",
   "execution_count": 29,
   "metadata": {},
   "outputs": [
    {
     "name": "stdout",
     "output_type": "stream",
     "text": [
      "Blackhole Masses at snap=25, id=49799: 7.366657414040407\n",
      "Blackhole Masses at snap=33, id=126942: 8.667488480322453\n",
      "Blackhole Masses at snap=40, id=197345: 8.668608187653929\n",
      "Blackhole Masses at snap=50, id=174022: 8.669391035651214\n",
      "Blackhole Masses at snap=59, id=212733: 8.990917052913856\n",
      "Blackhole Masses at snap=67, id=249122: 8.991682221014932\n",
      "Blackhole Masses at snap=72, id=273082: 8.991783486096411\n",
      "Blackhole Masses at snap=78, id=294528: 8.991903853718549\n",
      "Blackhole Masses at snap=84, id=319869: 8.992011927389374\n",
      "Blackhole Masses at snap=91, id=338697: 8.99217119092382\n",
      "Blackhole Masses at snap=99, id=359811: 9.00312047677316\n"
     ]
    }
   ],
   "source": [
    "# List to store BH masses\n",
    "bhmass_values = []\n",
    "\n",
    "fields = 'BH_Mass'\n",
    "\n",
    "# Loop over each subhalo ID and there snapshot\n",
    "for snap, id in zip(snapshots, ids):\n",
    "    # Load the BH data for this snapshot and subhalo ID.\n",
    "    bh_data = il.snapshot.loadSubhalo(basePath, snap, id, \"BH\", fields=fields)\n",
    "\n",
    "    # Calculate the BH mass.\n",
    "    if isinstance(bh_data, np.ndarray) and bh_data.size > 0:  # Check if bh_data is a non-empty array.\n",
    "        bh_mass = bh_data[0] * ((1e10) / h) #covert the bh mases\n",
    "    elif isinstance(bh_data, dict) and 'BH_Mass' in bh_data and len(bh_data['BH_Mass']) > 0:  # Check if there is BH data.\n",
    "        bh_mass = bh_data['BH_Mass'][0] * ((1e10) / h)\n",
    "    else:  # If no BH data, set the BH mass to zero.\n",
    "        bh_mass = 0.0\n",
    "        \n",
    "    #covert the bh masess to log10 \n",
    "    bh_mass = np.log10(bh_mass)\n",
    "\n",
    "    # Append the BH mass to the list.\n",
    "    bhmass_values.append(bh_mass)\n",
    "    \n",
    "    print(f'Blackhole Masses at snap={snap}, id={id}: {bh_mass}')\n",
    "    \n",
    "df = pd.read_csv('TNG_359811.csv')\n",
    "df['Blackhole Masses'] = bhmass_values\n",
    "df.to_csv('TNG_359811.csv', index=False)"
   ]
  },
  {
   "cell_type": "code",
   "execution_count": 30,
   "metadata": {},
   "outputs": [
    {
     "name": "stdout",
     "output_type": "stream",
     "text": [
      "Bhmdot:\n",
      "11\n"
     ]
    }
   ],
   "source": [
    "# List to store BHmdot\n",
    "bhmdot_values = []\n",
    "\n",
    "fields = 'BH_Mdot'\n",
    "\n",
    "# Loop over each subhalo ID and there snapshot\n",
    "for snap, id in zip(snapshots, ids):\n",
    "    # Load the BH data for this snapshot and subhalo ID.\n",
    "    bh_data = il.snapshot.loadSubhalo(basePath, snap, id, \"BH\", fields=fields)\n",
    "\n",
    "    # Calculate the BHmdot.\n",
    "    if isinstance(bh_data, np.ndarray) and bh_data.size > 0:  # Check if bh_data is a non-empty array.\n",
    "        bh_dot = bh_data[0] * ((1e10 * Msun) / (h * Gyr_to_s)) #covert the BHmdot\n",
    "    elif isinstance(bh_data, dict) and 'BH_Mdot' in bh_data and len(bh_data['BH_Mdot']) > 0:  # Check if there is BH data.\n",
    "        bh_dot = bh_data['BH_Mdot'][0] * ((1e10 * Msun) / (h * Gyr_to_s))\n",
    "    else:  # If no BH data, set the BHmdot to zero.\n",
    "        bh_dot = 0.0\n",
    "        \n",
    "    #covert the BHmdot to log10 \n",
    "    bh_dot = np.log10(bh_dot)\n",
    "\n",
    "    # Append the BHmdot to the list.\n",
    "    bhmdot_values.append(bh_dot)\n",
    "    \n",
    "    \n",
    "# Print the BHmdot\n",
    "print(\"Bhmdot:\")\n",
    "print(len(bhmdot_values)) \n",
    "\n",
    "df = pd.read_csv('TNG_359811.csv')\n",
    "df['Bhmdot'] = bhmdot_values\n",
    "df.to_csv('TNG_359811.csv', index=False)"
   ]
  },
  {
   "cell_type": "code",
   "execution_count": 31,
   "metadata": {},
   "outputs": [
    {
     "name": "stdout",
     "output_type": "stream",
     "text": [
      "Subhalo SFR at snap=25, id=49799: 26.90997314453125\n",
      "Subhalo SFR at snap=33, id=126942: 0.0\n",
      "Subhalo SFR at snap=40, id=197345: 0.0\n",
      "Subhalo SFR at snap=50, id=174022: 0.0\n",
      "Subhalo SFR at snap=59, id=212733: 0.0\n",
      "Subhalo SFR at snap=67, id=249122: 0.0\n",
      "Subhalo SFR at snap=72, id=273082: 0.0\n",
      "Subhalo SFR at snap=78, id=294528: 0.0\n",
      "Subhalo SFR at snap=84, id=319869: 0.0\n",
      "Subhalo SFR at snap=91, id=338697: 0.0\n",
      "Subhalo SFR at snap=99, id=359811: 0.0\n"
     ]
    }
   ],
   "source": [
    "# List to store Star formation rate\n",
    "sfr_values = []\n",
    "\n",
    "# Loop over each subhalo ID and there snapshot\n",
    "for snap, i in zip(snapshots, ids):\n",
    "    #load the galaxies\n",
    "    sfr = il.groupcat.loadSingle(basePath, snap, subhaloID=i)\n",
    "    #extract the value of the sfr\n",
    "    sfr_value = sfr['SubhaloSFRinHalfRad']\n",
    "    sfr_values.append(sfr_value)\n",
    "    print(f'Subhalo SFR at snap={snap}, id={i}: {sfr_value}')\n",
    "\n",
    "df = pd.read_csv('TNG_359811.csv')\n",
    "df['SFR'] = sfr_values\n",
    "df.to_csv('TNG_359811.csv', index=False)"
   ]
  },
  {
   "cell_type": "code",
   "execution_count": 32,
   "metadata": {},
   "outputs": [
    {
     "name": "stdout",
     "output_type": "stream",
     "text": [
      "χ values:\n",
      "[0.9437785128844122, 5.092678163174461e-05, 0.000795278345708525, 0.00017886260755723175, 2.5167746898106742e-05, 1.749627837966072e-05, 2.146373742935417e-05, 1.6722361566665907e-05, 2.1009781829697654e-05, 7.099788857854352e-05, 1.9163642633924627e-05]\n"
     ]
    }
   ],
   "source": [
    "# Create empty list to store of fraction χ of the Eddington accretion rate values\n",
    "χ_rate_list = []\n",
    "\n",
    "fields=[\"BH_Mass\", \"BH_Mdot\", \"BH_MdotEddington\"]\n",
    "\n",
    "# Loop over each subhalo ID and there snapshot\n",
    "for snapshot, id in zip(snapshots, ids):\n",
    "    # Load black hole properties for specific subhalo\n",
    "    blackholes = il.snapshot.loadSubhalo(basePath, snapshot, id, \"BH\", fields=fields)\n",
    "    \n",
    "    # Calculate the BHdot.\n",
    "    if isinstance(blackholes, np.ndarray) and blackholes.size > 0 and blackholes['BH_Mdot'][0] != 0:  \n",
    "        bhdot = blackholes['BH_Mdot'][0]\n",
    "    elif isinstance(blackholes, dict) and 'BH_Mdot' in blackholes and len(blackholes['BH_Mdot']) > 0 and blackholes['BH_Mdot'][0] != 0: \n",
    "        bhdot = blackholes['BH_Mdot'][0]\n",
    "    else:  \n",
    "        bhdot = np.nan  # Set to np.nan so that the resulting χ_rate will be np.nan.\n",
    "        \n",
    "    # Calculate the BH eddington.\n",
    "    if isinstance(blackholes, np.ndarray) and blackholes.size > 0 and blackholes['BH_MdotEddington'][0] != 0:  \n",
    "        bhedd = blackholes['BH_MdotEddington'][0]\n",
    "    elif isinstance(blackholes, dict) and 'BH_MdotEddington' in blackholes and len(blackholes['BH_MdotEddington']) > 0 and blackholes['BH_MdotEddington'][0] != 0:  \n",
    "        bhedd = blackholes['BH_MdotEddington'][0]\n",
    "    else:  \n",
    "        bhedd = np.nan  # Set to np.nan so that the resulting χ_rate will be np.nan.\n",
    "\n",
    "        \n",
    "    # Calculate χ_rate\n",
    "    χ_rate = (bhdot / bhedd)\n",
    "\n",
    "    \n",
    "    # Append χ_rate to the list\n",
    "    χ_rate_list.append(χ_rate)\n",
    "\n",
    "\n",
    "# Print fraction χ values\n",
    "print(\"χ values:\")\n",
    "print(χ_rate_list)\n",
    "\n",
    "df = pd.read_csv('TNG_359811.csv')\n",
    "df['χ'] = χ_rate_list\n",
    "df.to_csv('TNG_359811.csv', index=False)"
   ]
  },
  {
   "cell_type": "code",
   "execution_count": 33,
   "metadata": {},
   "outputs": [
    {
     "name": "stdout",
     "output_type": "stream",
     "text": [
      "Bol Luminosity values:\n",
      "[45.60027592224686, 42.633290197243035, 43.82798145827999, 43.18076533257155, 42.65061692887697, 42.4934833763488, 42.582344329857584, 42.474056958130696, 42.57328892959198, 43.10227213132475, 42.544454040742544]\n"
     ]
    }
   ],
   "source": [
    "# Create empty list to store the bolometric luminosity values\n",
    "L_list = []\n",
    "\n",
    "fields=[\"BH_Mass\", \"BH_Mdot\"]\n",
    "\n",
    "# Loop over each subhalo ID and there snapshot\n",
    "for snapshot, id in zip(snapshots, ids):\n",
    "    # Load black hole properties for specific subhalo\n",
    "    blackholes = il.snapshot.loadSubhalo(basePath, snapshot, id, \"BH\", fields=fields)\n",
    "    \n",
    "    # Calculate the BHdot.\n",
    "    if isinstance(blackholes, np.ndarray) and blackholes.size > 0 and blackholes['BH_Mdot'][0] != 0:  \n",
    "        bhdot = blackholes['BH_Mdot'][0] * ((1e10 * Msun) / (h * Gyr_to_s))\n",
    "    elif isinstance(blackholes, dict) and 'BH_Mdot' in blackholes and len(blackholes['BH_Mdot']) > 0 and blackholes['BH_Mdot'][0] != 0: \n",
    "        bhdot = blackholes['BH_Mdot'][0] * ((1e10 * Msun) / (h * Gyr_to_s))\n",
    "    else:  \n",
    "        bhdot = np.nan  # Set to np.nan so that the resulting L_bol will be np.nan.\n",
    "\n",
    "    # Calculate L_bol\n",
    "    L_bol = e_r * bhdot * c**2\n",
    "\n",
    "    \n",
    "    # Append bolometric luminosity to the list\n",
    "    L_list.append(np.log10(L_bol))\n",
    "\n",
    "\n",
    "# Print bolometric luminosity values\n",
    "print(\"Bol Luminosity values:\")\n",
    "print(L_list)\n",
    "\n",
    "df = pd.read_csv('TNG_359811.csv')\n",
    "df['L_bol'] = L_list\n",
    "df.to_csv('TNG_359811.csv', index=False)"
   ]
  },
  {
   "cell_type": "code",
   "execution_count": 34,
   "metadata": {},
   "outputs": [
    {
     "name": "stdout",
     "output_type": "stream",
     "text": [
      "Edd Luminosity values:\n",
      "[45.62540583676054, 46.92634396586831, 46.927462300883604, 46.92824577472588, 47.249772591100474, 47.250537696294714, 47.250638982981634, 47.25075934872695, 47.25086738697424, 47.251026697990504, 47.26197597726034]\n"
     ]
    }
   ],
   "source": [
    "# Create empty list to store the Eddington luminosity values\n",
    "L_edd_list = []\n",
    "\n",
    "e_r = 0.2\n",
    "\n",
    "fields=[\"BH_Mass\", \"BH_MdotEddington\"]\n",
    "\n",
    "# Loop over each subhalo ID and there snapshot\n",
    "for snapshot, id in zip(snapshots, ids):\n",
    "    # Load black hole properties for specific subhalo\n",
    "    blackholes = il.snapshot.loadSubhalo(basePath, snapshot, id, \"BH\", fields=fields)\n",
    "    \n",
    "    # Calculate the BH eddington.\n",
    "    if isinstance(blackholes, np.ndarray) and blackholes.size > 0 and blackholes['BH_MdotEddington'][0] != 0:  \n",
    "        bhedd = blackholes['BH_MdotEddington'][0] * ((1e10 * Msun) / (h * Gyr_to_s))\n",
    "    elif isinstance(blackholes, dict) and 'BH_MdotEddington' in blackholes and len(blackholes['BH_MdotEddington']) > 0 and blackholes['BH_MdotEddington'][0] != 0: \n",
    "        bhedd = blackholes['BH_MdotEddington'][0] * ((1e10 * Msun) / (h * Gyr_to_s))\n",
    "    else:  \n",
    "        bhedd = np.nan  # Set to np.nan so that the resulting L_edd will be np.nan.\n",
    "\n",
    "\n",
    "    # Calculate L_edd\n",
    "    L_edd = e_r * bhedd * c**2\n",
    "\n",
    "    \n",
    "    # Append Eddington luminosity to the list\n",
    "    L_edd_list.append(np.log10(L_edd))\n",
    "\n",
    "\n",
    "# Print Eddington luminosity values\n",
    "print(\"Edd Luminosity values:\")\n",
    "print(L_edd_list)\n",
    "\n",
    "df = pd.read_csv('TNG_359811.csv')\n",
    "df['L_edd'] = L_edd_list\n",
    "df.to_csv('TNG_359811.csv', index=False)"
   ]
  },
  {
   "cell_type": "code",
   "execution_count": 35,
   "metadata": {},
   "outputs": [
    {
     "name": "stdout",
     "output_type": "stream",
     "text": [
      "E_feed values:\n",
      "[45.60027592224686, 42.633290197243035, 43.82798145827999, 43.18076533257155, 42.65061692887697, 42.4934833763488, 42.582344329857584, 42.474056958130696, 42.57328892959198, 43.10227213132475, 42.544454040742544]\n"
     ]
    }
   ],
   "source": [
    "# Create empty list to store the feedback energy of the AGN values\n",
    "E_feed_list = []\n",
    "\n",
    "\n",
    "Msun = 1.989e33 # in grams\n",
    "Gyr_to_s = 3.15576e16 # in seconds\n",
    "h = 0.6774\n",
    "\n",
    "fields=[\"BH_Mass\", \"BH_Mdot\"]\n",
    "\n",
    "# Loop over each subhalo ID and there snapshot\n",
    "for snapshot, id in zip(snapshots, ids):\n",
    "    # Load black hole properties for specific subhalo\n",
    "    blackholes = il.snapshot.loadSubhalo(basePath, snapshot, id, \"BH\", fields=fields)\n",
    "    \n",
    "    # Calculate the BHdot.\n",
    "    if isinstance(blackholes, np.ndarray) and blackholes.size > 0 and blackholes['BH_Mdot'][0] != 0:  \n",
    "        bhdot = blackholes['BH_Mdot'][0] * ((1e10 * Msun) / (h * Gyr_to_s))\n",
    "    elif isinstance(blackholes, dict) and 'BH_Mdot' in blackholes and len(blackholes['BH_Mdot']) > 0 and blackholes['BH_Mdot'][0] != 0: \n",
    "        bhdot = blackholes['BH_Mdot'][0] * ((1e10 * Msun) / (h * Gyr_to_s))\n",
    "    else:  \n",
    "        bhdot = np.nan  # Set to np.nan so that the resulting feedback energy will be np.nan.\n",
    "\n",
    "        \n",
    "    # Calculate feedback energy\n",
    "    E_feed = e_fm * bhdot * c**2\n",
    "\n",
    "    \n",
    "    # Append feedback energy to the list\n",
    "    E_feed_list.append(np.log10(E_feed))\n",
    "\n",
    "\n",
    "# Print feedback energy values\n",
    "print(\"E_feed values:\")\n",
    "print(E_feed_list)\n",
    "\n",
    "df = pd.read_csv('TNG_359811.csv')\n",
    "df['E_feed'] = E_feed_list\n",
    "df.to_csv('TNG_359811.csv', index=False)"
   ]
  },
  {
   "cell_type": "code",
   "execution_count": 36,
   "metadata": {},
   "outputs": [
    {
     "name": "stdout",
     "output_type": "stream",
     "text": [
      "Logarithmic QM and RM at snap=25, id=49799: 8.195438445138826, 0.0\n",
      "Logarithmic QM and RM at snap=33, id=126942: 8.853114666019282, 8.113410777935506\n",
      "Logarithmic QM and RM at snap=40, id=197345: 8.853114666019282, 8.240226920844707\n",
      "Logarithmic QM and RM at snap=50, id=174022: 8.853114666019282, 8.298840203582206\n",
      "Logarithmic QM and RM at snap=59, id=212733: 9.012817788960861, 8.506595127553792\n",
      "Logarithmic QM and RM at snap=67, id=249122: 9.012881131121048, 8.512704191741854"
     ]
    },
    {
     "name": "stderr",
     "output_type": "stream",
     "text": [
      "/opt/conda/lib/python3.6/site-packages/ipykernel_launcher.py:17: RuntimeWarning: divide by zero encountered in log10\n"
     ]
    },
    {
     "name": "stdout",
     "output_type": "stream",
     "text": [
      "\n",
      "Logarithmic QM and RM at snap=72, id=273082: 9.012881131121048, 8.517367064352234\n",
      "Logarithmic QM and RM at snap=78, id=294528: 9.012881131121048, 8.522220788971577\n",
      "Logarithmic QM and RM at snap=84, id=319869: 9.012881131121048, 8.5265724293661\n",
      "Logarithmic QM and RM at snap=91, id=338697: 9.012881131121048, 8.53226562108028\n",
      "Logarithmic QM and RM at snap=99, id=359811: 9.017650184727835, 8.537854567443002\n"
     ]
    }
   ],
   "source": [
    "# Prepare empty lists to store the logarithm values\n",
    "QM_values = []\n",
    "RM_values = []\n",
    "\n",
    "# Loop over each subhalo ID and their snapshot\n",
    "for snapshot, id in zip(snapshots, ids):\n",
    "    # Load necessary fields\n",
    "    fields = ['BH_CumEgyInjection_QM', 'BH_CumEgyInjection_RM']\n",
    "    data = il.snapshot.loadSubhalo(basePath, snapshot, id, 'BH', fields=fields)\n",
    "    \n",
    "    # Convert units\n",
    "    BH_CumEgyInjection_QM_phys = np.sqrt(data['BH_CumEgyInjection_QM'] * 1e10 / 0.7 / (0.978 / 0.7)**2)\n",
    "    BH_CumEgyInjection_RM_phys = np.sqrt(data['BH_CumEgyInjection_RM'] * 1e10 / 0.7 / (0.978 / 0.7)**2)\n",
    "\n",
    "    # Calculate the logarithm and replace -inf with 0\n",
    "    QM_log = np.log10(BH_CumEgyInjection_QM_phys)\n",
    "    RM_log = np.log10(BH_CumEgyInjection_RM_phys)\n",
    "    \n",
    "    QM_log[np.isneginf(QM_log)] = 0\n",
    "    RM_log[np.isneginf(RM_log)] = 0\n",
    "\n",
    "    QM_values.append(QM_log[0])  # Only store the first (and only) value in the array\n",
    "    RM_values.append(RM_log[0])  # Only store the first (and only) value in the array\n",
    "\n",
    "    print(f'Logarithmic QM and RM at snap={snapshot}, id={id}: {QM_log[0]}, {RM_log[0]}')\n",
    "    \n",
    "df = pd.read_csv('TNG_359811.csv')\n",
    "df['Log_EQM'] = QM_values\n",
    "df['Log_ERM'] = RM_values\n",
    "df.to_csv('TNG_359811.csv', index=False)"
   ]
  },
  {
   "cell_type": "code",
   "execution_count": 20,
   "metadata": {},
   "outputs": [
    {
     "name": "stdout",
     "output_type": "stream",
     "text": [
      "   Redshift (z)  Average divergence  Average radial velocity  \\\n",
      "0           3.0           -9.995570              -228.432337   \n",
      "1           2.0            0.437832               -96.927502   \n",
      "2           1.5           -2.064771              -209.748246   \n",
      "3           1.0            0.233210               -15.572511   \n",
      "4           0.7           -3.380712               -78.897801   \n",
      "\n",
      "   Blackhole Masses     Bhmdot        SFR         χ      L_bol      L_edd  \\\n",
      "0          7.366657  25.345605  26.909973  0.943779  45.600276  45.625406   \n",
      "1          8.667488  22.378619   0.000000  0.000051  42.633290  46.926344   \n",
      "2          8.668608  23.573310   0.000000  0.000795  43.827981  46.927462   \n",
      "3          8.669391  22.926094   0.000000  0.000179  43.180765  46.928246   \n",
      "4          8.990917  22.395946   0.000000  0.000025  42.650617  47.249773   \n",
      "\n",
      "      E_feed   Log_EQM   Log_ERM  Average divergence of Halo  \n",
      "0  45.600276  8.195438  0.000000                  -10.046616  \n",
      "1  42.633290  8.853115  8.113411                    6.148496  \n",
      "2  43.827981  8.853115  8.240227                   10.786297  \n",
      "3  43.180765  8.853115  8.298840                   -1.987463  \n",
      "4  42.650617  9.012818  8.506595                   -2.356850  \n"
     ]
    }
   ],
   "source": [
    "#lets view the compilation of the file \n",
    "df = pd.read_csv('TNG_359811.csv')\n",
    "print(df.head())"
   ]
  },
  {
   "cell_type": "markdown",
   "metadata": {},
   "source": [
    "----------------------------------------------------------------"
   ]
  },
  {
   "cell_type": "markdown",
   "metadata": {},
   "source": [
    "### Next galaxy is id=408764\n",
    "\n",
    "##### same process as the above"
   ]
  },
  {
   "cell_type": "code",
   "execution_count": 48,
   "metadata": {},
   "outputs": [
    {
     "name": "stdout",
     "output_type": "stream",
     "text": [
      "Progenitor of 408764 at snap=99 is 408764\n",
      "Progenitor of 408764 at snap=91 is 387977\n",
      "Progenitor of 408764 at snap=84 is 365040\n",
      "Progenitor of 408764 at snap=78 is 337032\n",
      "Progenitor of 408764 at snap=72 is 316818\n",
      "Progenitor of 408764 at snap=67 is 296833\n",
      "Progenitor of 408764 at snap=59 is 274520\n",
      "Progenitor of 408764 at snap=50 is 266546\n",
      "Progenitor of 408764 at snap=40 is 175977\n",
      "Progenitor of 408764 at snap=33 is 107233\n",
      "Progenitor of 408764 at snap=25 is 39895\n",
      "[39895, 107233, 175977, 266546, 274520, 296833, 316818, 337032, 365040, 387977, 408764]\n"
     ]
    }
   ],
   "source": [
    "ids = [408764] #galaxy id\n",
    "target_snaps = [99, 91, 84, 78, 72, 67, 59, 50, 40, 33, 25]  # list of target snapshots here\n",
    "# the target snapshots list are the 11 out the 20 full snapshots that illustrisTNG have \n",
    "# 99 snapshots corresponds to z=0 and the 25 snapshot to z=3\n",
    "\n",
    "progenitor_ids_list = []\n",
    "\n",
    "for id in ids:\n",
    "    id_progenitors = []\n",
    "    start_url = \"http://www.tng-project.org/api/TNG100-1/snapshots/99/subhalos/\" + str(id)\n",
    "    sub = get(start_url)\n",
    "    current_snap = 99\n",
    "\n",
    "    for snap in target_snaps:\n",
    "        while current_snap > snap:\n",
    "            # request the full subhalo details of the progenitor by following the sublink URL\n",
    "            try:\n",
    "                sub = get(sub['related']['sublink_progenitor'])\n",
    "                current_snap = sub['snap']\n",
    "            except KeyError:  # KeyError occurs if there's no progenitor\n",
    "                break  # exit the while loop and go to the next snap\n",
    "\n",
    "        if current_snap == snap:  # if the snapshot has a progenitor\n",
    "            id_progenitors.append(sub['id'])\n",
    "            print(f'Progenitor of {id} at snap={snap} is {sub[\"id\"]}')\n",
    "        else:\n",
    "            print(f'Progenitor of {id} not followed to snap={snap}!')\n",
    "            id_progenitors.append(-1)\n",
    "\n",
    "    progenitor_ids_list.append(id_progenitors)\n",
    "\n",
    "# Transpose the list to match the target_snap order\n",
    "progenitor_ids_list = list(map(list, zip(*progenitor_ids_list)))\n",
    "\n",
    "# Exclude -1 values\n",
    "progenitor_ids_list = [sublist for sublist in progenitor_ids_list if sublist != [-1]*len(ids)]\n",
    "\n",
    "# Flatten the list\n",
    "progenitor_ids_list = [id for sublist in progenitor_ids_list for id in sublist]\n",
    "\n",
    "# Reverse the list\n",
    "progenitor_ids_list.reverse()\n",
    "\n",
    "print(progenitor_ids_list)"
   ]
  },
  {
   "cell_type": "code",
   "execution_count": 49,
   "metadata": {},
   "outputs": [
    {
     "name": "stdout",
     "output_type": "stream",
     "text": [
      "[25, 33, 40, 50, 59, 67, 72, 78, 84, 91, 99]\n",
      "[39895, 107233, 175977, 266546, 274520, 296833, 316818, 337032, 365040, 387977, 408764]\n"
     ]
    }
   ],
   "source": [
    "# target snapshots\n",
    "snapshots = [25, 33, 40, 50, 59, 67, 72, 78, 84, 91, 99]\n",
    "print(snapshots)\n",
    "#below are the ids that were found from above\n",
    "ids = progenitor_ids_list\n",
    "print(ids)"
   ]
  },
  {
   "cell_type": "code",
   "execution_count": 40,
   "metadata": {},
   "outputs": [],
   "source": [
    "#Redshift are stored in the list `redshift`\n",
    "redshift = [3, 2, 1.5, 1, 0.7, 0.5, 0.4, 0.3, 0.2, 0.1, 0]\n",
    "\n",
    "# Create a DataFrame from your data\n",
    "df = pd.DataFrame({\n",
    "    'Redshift (z)': redshift\n",
    "})\n",
    "\n",
    "# Write the DataFrame to a CSV file\n",
    "df.to_csv('TNG_408764.csv', index=False)"
   ]
  },
  {
   "cell_type": "code",
   "execution_count": 20,
   "metadata": {},
   "outputs": [
    {
     "name": "stdout",
     "output_type": "stream",
     "text": [
      "Average divergence at snap=25, id=39895: -2.734729480905652\n",
      "Average divergence at snap=33, id=107233: 0.7447755835402607\n",
      "Average divergence at snap=40, id=175977: 1.3776775719467103\n",
      "Average divergence at snap=50, id=266546: -1.3826978330595792\n",
      "Average divergence at snap=59, id=274520: -2.3500968156285884\n",
      "Average divergence at snap=67, id=296833: -0.9337581976415962\n",
      "Average divergence at snap=72, id=316818: -0.5731828988844901\n",
      "Average divergence at snap=78, id=337032: 2.793586346017778\n",
      "Average divergence at snap=84, id=365040: 1.5061957798785828\n",
      "Average divergence at snap=91, id=387977: 0.0775266170039773\n",
      "Average divergence at snap=99, id=408764: -1.1139595985954405\n"
     ]
    }
   ],
   "source": [
    "def calculate_divergence(part_data, agn_position):\n",
    "    # Calculate the position of the particles relative to the AGN\n",
    "    relative_pos = part_data['Coordinates'] - agn_position\n",
    "\n",
    "    # Calculate the position boundaries\n",
    "    padding = 1  # This value can be adhust as needed\n",
    "    min_x, min_y, min_z = np.min(relative_pos, axis=0) - padding\n",
    "    max_x, max_y, max_z = np.max(relative_pos, axis=0) + padding\n",
    "\n",
    "    # Create a grid\n",
    "    grid_x, grid_y, grid_z = np.mgrid[min_x:max_x:100j, min_y:max_y:100j, min_z:max_z:100j]\n",
    "\n",
    "    # Interpolate the velocities onto the grid\n",
    "    grid_vx = interpolate.griddata(relative_pos, part_data['Velocities'][:, 0], (grid_x, grid_y, grid_z), method='nearest')\n",
    "    grid_vy = interpolate.griddata(relative_pos, part_data['Velocities'][:, 1], (grid_x, grid_y, grid_z), method='nearest')\n",
    "    grid_vz = interpolate.griddata(relative_pos, part_data['Velocities'][:, 2], (grid_x, grid_y, grid_z), method='nearest')\n",
    "\n",
    "    # Calculate the divergence\n",
    "    divergence = np.gradient(grid_vx, axis=0) + np.gradient(grid_vy, axis=1) + np.gradient(grid_vz, axis=2)\n",
    "    \n",
    "    # Return the average divergence    \n",
    "    return np.mean(divergence)\n",
    "\n",
    "# Define lists to store the results\n",
    "avg_divergence_list = []\n",
    "\n",
    "# Loop over each subhalo ID and there snapshot\n",
    "for snap, i in zip(snapshots, ids):\n",
    "    # Load the particle data for the subhalo\n",
    "    part_data = il.snapshot.loadSubhalo(basePath, snap, i, partType='gas', fields=['Coordinates', 'Velocities'])\n",
    "    \n",
    "    agn_position = il.groupcat.loadSingle(basePath, snap, subhaloID=i)\n",
    "    agn_position = agn_position['SubhaloPos']\n",
    "\n",
    "    # Calculate the divergence\n",
    "    average_divergence = calculate_divergence(part_data, agn_position)\n",
    "\n",
    "    # Store the results\n",
    "    avg_divergence_list.append(average_divergence)\n",
    "\n",
    "    # Print the average divergence\n",
    "    print(f'Average divergence at snap={snap}, id={i}: {average_divergence}')\n",
    "#read the file    \n",
    "df = pd.read_csv('TNG_408764.csv')\n",
    "#append them to the new column \n",
    "df['Average divergence'] = avg_divergence_list\n",
    "df.to_csv('TNG_408764.csv', index=False)"
   ]
  },
  {
   "cell_type": "code",
   "execution_count": 21,
   "metadata": {},
   "outputs": [
    {
     "name": "stdout",
     "output_type": "stream",
     "text": [
      "Average divergence at snap=25, galaxy id=39895, halo id=289: -0.5751847116332054\n",
      "Average divergence at snap=33, galaxy id=107233, halo id=516: 9.453220862362034\n",
      "Average divergence at snap=40, galaxy id=175977, halo id=784: 6.957202137059486\n",
      "Average divergence at snap=50, galaxy id=266546, halo id=1091: 2.3491377237073183\n",
      "Average divergence at snap=59, galaxy id=274520, halo id=680: -1.2267118946260511\n",
      "Average divergence at snap=67, galaxy id=296833, halo id=574: -0.2859835142147988\n",
      "Average divergence at snap=72, galaxy id=316818, halo id=570: 2.739816698159963\n",
      "Average divergence at snap=78, galaxy id=337032, halo id=564: 6.321923805343107\n",
      "Average divergence at snap=84, galaxy id=365040, halo id=593: 4.1543562020833384\n",
      "Average divergence at snap=91, galaxy id=387977, halo id=593: 1.0849091599355192\n",
      "Average divergence at snap=99, galaxy id=408764, halo id=572: -0.6442625361153335\n"
     ]
    }
   ],
   "source": [
    "def calculate_divergence(part_data, agn_position):\n",
    "    # Calculate the position of the particles relative to the AGN\n",
    "    relative_pos = part_data['Coordinates'] - agn_position\n",
    "\n",
    "    # Calculate the position boundaries\n",
    "    padding = 1  # This value can be adjusted as needed\n",
    "    min_x, min_y, min_z = np.min(relative_pos, axis=0) - padding\n",
    "    max_x, max_y, max_z = np.max(relative_pos, axis=0) + padding\n",
    "\n",
    "    # Create a grid\n",
    "    grid_x, grid_y, grid_z = np.mgrid[min_x:max_x:100j, min_y:max_y:100j, min_z:max_z:100j]\n",
    "\n",
    "    # Interpolate the velocities onto the grid\n",
    "    grid_vx = interpolate.griddata(relative_pos, part_data['Velocities'][:, 0], (grid_x, grid_y, grid_z), method='nearest')\n",
    "    grid_vy = interpolate.griddata(relative_pos, part_data['Velocities'][:, 1], (grid_x, grid_y, grid_z), method='nearest')\n",
    "    grid_vz = interpolate.griddata(relative_pos, part_data['Velocities'][:, 2], (grid_x, grid_y, grid_z), method='nearest')\n",
    "\n",
    "    # Calculate the divergence\n",
    "    divergence = np.gradient(grid_vx, axis=0) + np.gradient(grid_vy, axis=1) + np.gradient(grid_vz, axis=2)\n",
    "    \n",
    "    # Return the average divergence    \n",
    "    return np.mean(divergence)\n",
    "\n",
    "# Define lists to store the results\n",
    "avg_divergence_list = []\n",
    "\n",
    "# Loop over each subhalo ID and their snapshot\n",
    "for snap, i in zip(snapshots, ids):\n",
    "    # Get the main halo ID (Group Number) for the subhalo\n",
    "    main_halo_id = il.groupcat.loadSingle(basePath, snap, subhaloID=i)['SubhaloGrNr']\n",
    "    \n",
    "    # Load the properties of the main halo\n",
    "    main_halo_properties = il.groupcat.loadSingle(basePath, snap, haloID=main_halo_id)\n",
    "    \n",
    "    # Get the position of the main halo\n",
    "    agn_position = main_halo_properties['GroupPos']\n",
    "    \n",
    "    # Load the particle data for the halo\n",
    "    part_data = il.snapshot.loadHalo(basePath, snap, main_halo_id, partType='gas', fields=['Coordinates', 'Velocities'])\n",
    "\n",
    "    # Calculate the divergence\n",
    "    average_divergence = calculate_divergence(part_data, agn_position)\n",
    "\n",
    "    # Store the results\n",
    "    avg_divergence_list.append(average_divergence)\n",
    "\n",
    "    # Print the average divergence\n",
    "    print(f'Average divergence at snap={snap}, galaxy id={i}, halo id={main_halo_id}: {average_divergence}')\n",
    "#read the file    \n",
    "df = pd.read_csv('TNG_408764.csv')\n",
    "#append them to the new column \n",
    "df['Average divergence of Halo'] = avg_divergence_list\n",
    "df.to_csv('TNG_408764.csv', index=False)"
   ]
  },
  {
   "cell_type": "code",
   "execution_count": 50,
   "metadata": {},
   "outputs": [
    {
     "data": {
      "image/png": "[encoded data removed]",
      "text/plain": [
       "<Figure size 432x288 with 1 Axes>"
      ]
     },
     "metadata": {
      "needs_background": "light"
     },
     "output_type": "display_data"
    },
    {
     "name": "stdout",
     "output_type": "stream",
     "text": [
      "Average outflow divergence at snap=25, galaxy id=39895, halo id=289: [ -44.16356858  -40.12369497 -113.59378337 ...  694.77934628 1295.52747752\n",
      "  770.91108183]\n"
     ]
    },
    {
     "data": {
      "image/png": "[encoded data removed]",
      "text/plain": [
       "<Figure size 432x288 with 1 Axes>"
      ]
     },
     "metadata": {
      "needs_background": "light"
     },
     "output_type": "display_data"
    },
    {
     "name": "stdout",
     "output_type": "stream",
     "text": [
      "Average outflow divergence at snap=33, galaxy id=107233, halo id=516: [ -44.16356858  -40.12369497 -113.59378337 ...  694.77934628 1295.52747752\n",
      "  770.91108183]\n"
     ]
    },
    {
     "data": {
      "image/png": "[encoded data removed]",
      "text/plain": [
       "<Figure size 432x288 with 1 Axes>"
      ]
     },
     "metadata": {
      "needs_background": "light"
     },
     "output_type": "display_data"
    },
    {
     "name": "stdout",
     "output_type": "stream",
     "text": [
      "Average outflow divergence at snap=40, galaxy id=175977, halo id=784: [ -44.16356858  -40.12369497 -113.59378337 ...  694.77934628 1295.52747752\n",
      "  770.91108183]\n"
     ]
    },
    {
     "data": {
      "image/png": "[encoded data removed]",
      "text/plain": [
       "<Figure size 432x288 with 1 Axes>"
      ]
     },
     "metadata": {
      "needs_background": "light"
     },
     "output_type": "display_data"
    },
    {
     "name": "stdout",
     "output_type": "stream",
     "text": [
      "Average outflow divergence at snap=50, galaxy id=266546, halo id=1091: [ -44.16356858  -40.12369497 -113.59378337 ...  694.77934628 1295.52747752\n",
      "  770.91108183]\n"
     ]
    },
    {
     "data": {
      "image/png": "[encoded data removed]",
      "text/plain": [
       "<Figure size 432x288 with 1 Axes>"
      ]
     },
     "metadata": {
      "needs_background": "light"
     },
     "output_type": "display_data"
    },
    {
     "name": "stdout",
     "output_type": "stream",
     "text": [
      "Average outflow divergence at snap=59, galaxy id=274520, halo id=680: [ -44.16356858  -40.12369497 -113.59378337 ...  694.77934628 1295.52747752\n",
      "  770.91108183]\n"
     ]
    },
    {
     "data": {
      "image/png": "[encoded data removed]",
      "text/plain": [
       "<Figure size 432x288 with 1 Axes>"
      ]
     },
     "metadata": {
      "needs_background": "light"
     },
     "output_type": "display_data"
    },
    {
     "name": "stdout",
     "output_type": "stream",
     "text": [
      "Average outflow divergence at snap=67, galaxy id=296833, halo id=574: [ -44.16356858  -40.12369497 -113.59378337 ...  694.77934628 1295.52747752\n",
      "  770.91108183]\n"
     ]
    },
    {
     "data": {
      "image/png": "[encoded data removed]",
      "text/plain": [
       "<Figure size 432x288 with 1 Axes>"
      ]
     },
     "metadata": {
      "needs_background": "light"
     },
     "output_type": "display_data"
    },
    {
     "name": "stdout",
     "output_type": "stream",
     "text": [
      "Average outflow divergence at snap=72, galaxy id=316818, halo id=570: [ -44.16356858  -40.12369497 -113.59378337 ...  694.77934628 1295.52747752\n",
      "  770.91108183]\n"
     ]
    },
    {
     "data": {
      "image/png": "[encoded data removed]",
      "text/plain": [
       "<Figure size 432x288 with 1 Axes>"
      ]
     },
     "metadata": {
      "needs_background": "light"
     },
     "output_type": "display_data"
    },
    {
     "name": "stdout",
     "output_type": "stream",
     "text": [
      "Average outflow divergence at snap=78, galaxy id=337032, halo id=564: [ -44.16356858  -40.12369497 -113.59378337 ...  694.77934628 1295.52747752\n",
      "  770.91108183]\n"
     ]
    },
    {
     "data": {
      "image/png": "[encoded data removed]",
      "text/plain": [
       "<Figure size 432x288 with 1 Axes>"
      ]
     },
     "metadata": {
      "needs_background": "light"
     },
     "output_type": "display_data"
    },
    {
     "name": "stdout",
     "output_type": "stream",
     "text": [
      "Average outflow divergence at snap=84, galaxy id=365040, halo id=593: [ -44.16356858  -40.12369497 -113.59378337 ...  694.77934628 1295.52747752\n",
      "  770.91108183]\n"
     ]
    },
    {
     "data": {
      "image/png": "[encoded data removed]",
      "text/plain": [
       "<Figure size 432x288 with 1 Axes>"
      ]
     },
     "metadata": {
      "needs_background": "light"
     },
     "output_type": "display_data"
    },
    {
     "name": "stdout",
     "output_type": "stream",
     "text": [
      "Average outflow divergence at snap=91, galaxy id=387977, halo id=593: [ -44.16356858  -40.12369497 -113.59378337 ...  694.77934628 1295.52747752\n",
      "  770.91108183]\n"
     ]
    },
    {
     "data": {
      "image/png": "[encoded data removed]",
      "text/plain": [
       "<Figure size 432x288 with 1 Axes>"
      ]
     },
     "metadata": {
      "needs_background": "light"
     },
     "output_type": "display_data"
    },
    {
     "name": "stdout",
     "output_type": "stream",
     "text": [
      "Average outflow divergence at snap=99, galaxy id=408764, halo id=572: [ -44.16356858  -40.12369497 -113.59378337 ...  694.77934628 1295.52747752\n",
      "  770.91108183]\n"
     ]
    }
   ],
   "source": [
    "def visualize_gas_flow(part_data, agn_position):\n",
    "    # Calculate the position of the particles relative to the AGN\n",
    "    relative_pos = part_data['Coordinates'] - agn_position\n",
    "    distances = np.linalg.norm(relative_pos, axis=1)\n",
    "    \n",
    "    # Calculate the radial velocities\n",
    "    radial_velocities = np.sum(relative_pos * part_data['Velocities'], axis=1) / distances\n",
    "    \n",
    "    # Plot radial velocity distribution\n",
    "    plt.hist(radial_velocities, bins=100, color='blue', alpha=0.7)\n",
    "    plt.xlabel('Radial Velocity (km/s)')\n",
    "    plt.ylabel('Number of Particles')\n",
    "    plt.title('Radial Velocity Distribution')\n",
    "    plt.show()\n",
    "\n",
    "# Loop over each subhalo ID and their snapshot\n",
    "for snap, i in zip(snapshots, ids):\n",
    "    # Get the main halo ID (Group Number) for the subhalo\n",
    "    main_halo_id = il.groupcat.loadSingle(basePath, snap, subhaloID=i)['SubhaloGrNr']\n",
    "    \n",
    "    # Load the properties of the main halo\n",
    "    main_halo_properties = il.groupcat.loadSingle(basePath, snap, haloID=main_halo_id)\n",
    "    \n",
    "    # Get the position of the main halo\n",
    "    agn_position = main_halo_properties['GroupPos']\n",
    "    \n",
    "    # Load the particle data for the halo\n",
    "    part_data = il.snapshot.loadHalo(basePath, snap, main_halo_id, partType='gas', fields=['Coordinates', 'Velocities'])\n",
    "    \n",
    "    # Visualize the gas flow\n",
    "    visualize_gas_flow(part_data, agn_position)\n",
    "\n",
    "    # Print the average outflow divergence\n",
    "    print(f'Average outflow divergence at snap={snap}, galaxy id={i}, halo id={main_halo_id}: {radial_velocities}')"
   ]
  },
  {
   "cell_type": "code",
   "execution_count": 51,
   "metadata": {},
   "outputs": [
    {
     "name": "stdout",
     "output_type": "stream",
     "text": [
      "Average radial velocity at snap=25, id=39895, halo id=289: -126.64680563018314\n",
      "Average radial velocity at snap=33, id=107233, halo id=516: -45.59284199566698\n",
      "Average radial velocity at snap=40, id=175977, halo id=784: 150.65979156884126\n",
      "Average radial velocity at snap=50, id=266546, halo id=1091: 20.529851192549827\n",
      "Average radial velocity at snap=59, id=274520, halo id=680: -328.5679758650641\n",
      "Average radial velocity at snap=67, id=296833, halo id=574: -3.2081636420329067\n",
      "Average radial velocity at snap=72, id=316818, halo id=570: 89.30344839569781\n",
      "Average radial velocity at snap=78, id=337032, halo id=564: 83.49756227210514\n",
      "Average radial velocity at snap=84, id=365040, halo id=593: 41.563372046254834\n",
      "Average radial velocity at snap=91, id=387977, halo id=593: -42.98086071173714\n",
      "Average radial velocity at snap=99, id=408764, halo id=572: -8.270620988864993\n"
     ]
    }
   ],
   "source": [
    "def calculate_radial_velocity(positions, velocities, agn_position):\n",
    "    # Calculate the relative positions and distances of the particles\n",
    "    relative_positions = positions - agn_position\n",
    "    distances = np.linalg.norm(relative_positions, axis=1)\n",
    "\n",
    "    # Calculate the radial velocities\n",
    "    radial_velocities = np.sum(relative_positions * velocities, axis=1) / distances\n",
    "\n",
    "    return radial_velocities\n",
    "\n",
    "# Define lists to store the results\n",
    "average_radial_velocity_list = []\n",
    "\n",
    "\n",
    "# Loop over each subhalo ID and there snapshot\n",
    "for snap, i in zip(snapshots, ids):\n",
    "    # Get the main halo ID (Group Number) for the subhalo\n",
    "    main_halo_id = il.groupcat.loadSingle(basePath, snap, subhaloID=i)['SubhaloGrNr']\n",
    "    \n",
    "    # Load the properties of the main halo\n",
    "    main_halo_properties = il.groupcat.loadSingle(basePath, snap, haloID=main_halo_id)\n",
    "    \n",
    "    # Get the position of the main halo\n",
    "    agn_position = main_halo_properties['GroupPos']\n",
    "    \n",
    "    # Load the particle data for the halo\n",
    "    part_data = il.snapshot.loadHalo(basePath, snap, main_halo_id, partType='gas', fields=['Coordinates', 'Velocities'])\n",
    "\n",
    "    # Calculate the radial velocities\n",
    "    radial_velocities = calculate_radial_velocity(part_data['Coordinates'], part_data['Velocities'], agn_position)\n",
    "\n",
    "    # Calculate the average radial velocity\n",
    "    average_radial_velocity = np.mean(radial_velocities)\n",
    "    \n",
    "    average_radial_velocity_list.append(average_radial_velocity)\n",
    "\n",
    "    # Print the average radial velocity\n",
    "    print(f'Average radial velocity at snap={snap}, id={i}, halo id={main_halo_id}: {average_radial_velocity}')\n",
    "    \n",
    "df = pd.read_csv('TNG_408764.csv')\n",
    "df['Average radial velocity'] = average_radial_velocity_list\n",
    "df.to_csv('TNG_408764.csv', index=False)"
   ]
  },
  {
   "cell_type": "code",
   "execution_count": 43,
   "metadata": {},
   "outputs": [
    {
     "name": "stdout",
     "output_type": "stream",
     "text": [
      "Blackhole Masses at snap=25, id=39895: 8.515736000902672\n",
      "Blackhole Masses at snap=33, id=107233: 8.546695276970196\n",
      "Blackhole Masses at snap=40, id=175977: 8.553063723774862\n",
      "Blackhole Masses at snap=50, id=266546: 8.554340524970335\n",
      "Blackhole Masses at snap=59, id=274520: 8.55455772891537\n",
      "Blackhole Masses at snap=67, id=296833: 8.554719162320612\n",
      "Blackhole Masses at snap=72, id=316818: 8.698481219875264\n",
      "Blackhole Masses at snap=78, id=337032: 8.698838582080853\n",
      "Blackhole Masses at snap=84, id=365040: 8.6990046391601\n",
      "Blackhole Masses at snap=91, id=387977: 8.699020257488298\n",
      "Blackhole Masses at snap=99, id=408764: 8.69908005091109\n"
     ]
    }
   ],
   "source": [
    "# List to store BH masses\n",
    "bhmass_values = []\n",
    "\n",
    "fields = 'BH_Mass'\n",
    "\n",
    "# Loop over each subhalo ID and there snapshot\n",
    "for snap, id in zip(snapshots, ids):\n",
    "    # Load the BH data for this snapshot and subhalo ID.\n",
    "    bh_data = il.snapshot.loadSubhalo(basePath, snap, id, \"BH\", fields=fields)\n",
    "\n",
    "    # Calculate the BH mass.\n",
    "    if isinstance(bh_data, np.ndarray) and bh_data.size > 0:  # Check if bh_data is a non-empty array.\n",
    "        bh_mass = bh_data[0] * ((1e10) / h) #covert the bh mases\n",
    "    elif isinstance(bh_data, dict) and 'BH_Mass' in bh_data and len(bh_data['BH_Mass']) > 0:  # Check if there is BH data.\n",
    "        bh_mass = bh_data['BH_Mass'][0] * ((1e10) / h)\n",
    "    else:  # If no BH data, set the BH mass to zero.\n",
    "        bh_mass = 0.0\n",
    "        \n",
    "    #covert the bh masess to log10 \n",
    "    bh_mass = np.log10(bh_mass)\n",
    "\n",
    "    # Append the BH mass to the list.\n",
    "    bhmass_values.append(bh_mass)\n",
    "    \n",
    "    print(f'Blackhole Masses at snap={snap}, id={id}: {bh_mass}')\n",
    "    \n",
    "df = pd.read_csv('TNG_408764.csv')\n",
    "df['Blackhole Masses'] = bhmass_values\n",
    "df.to_csv('TNG_408764.csv', index=False)"
   ]
  },
  {
   "cell_type": "code",
   "execution_count": 52,
   "metadata": {},
   "outputs": [
    {
     "name": "stdout",
     "output_type": "stream",
     "text": [
      "Bhmdot:\n",
      "[24.05540587821552, 22.901954233313656, 23.431165765951718, 22.411176314170508, 21.30058035867288, 21.085171325651523, 22.499468811602892, 21.94963279628191, 21.771163950407, 21.362796320015523, 21.435409673788673]\n"
     ]
    }
   ],
   "source": [
    "# List to store BHmdot\n",
    "bhmdot_values = []\n",
    "\n",
    "fields = 'BH_Mdot'\n",
    "\n",
    "# Loop over each subhalo ID and there snapshot\n",
    "for snap, id in zip(snapshots, ids):\n",
    "    # Load the BH data for this snapshot and subhalo ID.\n",
    "    bh_data = il.snapshot.loadSubhalo(basePath, snap, id, \"BH\", fields=fields)\n",
    "\n",
    "    # Calculate the BHmdot.\n",
    "    if isinstance(bh_data, np.ndarray) and bh_data.size > 0:  # Check if bh_data is a non-empty array.\n",
    "        bh_dot = bh_data[0] * ((1e10 * Msun) / (h * Gyr_to_s)) #covert the BHmdot\n",
    "    elif isinstance(bh_data, dict) and 'BH_Mdot' in bh_data and len(bh_data['BH_Mdot']) > 0:  # Check if there is BH data.\n",
    "        bh_dot = bh_data['BH_Mdot'][0] * ((1e10 * Msun) / (h * Gyr_to_s))\n",
    "    else:  # If no BH data, set the BHmdot to zero.\n",
    "        bh_dot = 0.0\n",
    "        \n",
    "    #covert the BHmdot to log10 \n",
    "    bh_dot = np.log10(bh_dot)\n",
    "\n",
    "    # Append the BHmdot to the list.\n",
    "    bhmdot_values.append(bh_dot)\n",
    "    \n",
    "    \n",
    "# Print the BHmdot\n",
    "print(\"Bhmdot:\")\n",
    "print(bhmdot_values) \n",
    "\n",
    "df = pd.read_csv('TNG_408764.csv')\n",
    "df['Bhmdot'] = bhmdot_values\n",
    "df.to_csv('TNG_408764.csv', index=False)"
   ]
  },
  {
   "cell_type": "code",
   "execution_count": 45,
   "metadata": {},
   "outputs": [
    {
     "name": "stdout",
     "output_type": "stream",
     "text": [
      "Subhalo SFR at snap=25, id=39895: 0.0\n",
      "Subhalo SFR at snap=33, id=107233: 0.0\n",
      "Subhalo SFR at snap=40, id=175977: 0.03534984961152077\n",
      "Subhalo SFR at snap=50, id=266546: 0.0\n",
      "Subhalo SFR at snap=59, id=274520: 0.0\n",
      "Subhalo SFR at snap=67, id=296833: 0.0\n",
      "Subhalo SFR at snap=72, id=316818: 0.0005703930510208011\n",
      "Subhalo SFR at snap=78, id=337032: 0.0\n",
      "Subhalo SFR at snap=84, id=365040: 0.0\n",
      "Subhalo SFR at snap=91, id=387977: 0.0\n",
      "Subhalo SFR at snap=99, id=408764: 0.0\n"
     ]
    }
   ],
   "source": [
    "# List to store Star formation rate\n",
    "sfr_values = []\n",
    "\n",
    "# Loop over each subhalo ID and there snapshot\n",
    "for snap, i in zip(snapshots, ids):\n",
    "    #load the galaxies\n",
    "    sfr = il.groupcat.loadSingle(basePath, snap, subhaloID=i)\n",
    "    #extract the value of the sfr\n",
    "    sfr_value = sfr['SubhaloSFRinHalfRad']\n",
    "    sfr_values.append(sfr_value)\n",
    "    print(f'Subhalo SFR at snap={snap}, id={i}: {sfr_value}')\n",
    "\n",
    "df = pd.read_csv('TNG_408764.csv')\n",
    "df['SFR'] = sfr_values\n",
    "df.to_csv('TNG_408764.csv', index=False)"
   ]
  },
  {
   "cell_type": "code",
   "execution_count": 46,
   "metadata": {},
   "outputs": [
    {
     "name": "stdout",
     "output_type": "stream",
     "text": [
      "χ values:\n",
      "[0.003431562966919867, 0.00022442694108925474, 0.0007480292078903628, 7.122817803564398e-05, 5.518721906192186e-06, 3.3594489212024234e-06, 6.26330462282858e-05, 1.764453096369501e-05, 1.1694326855779381e-05, 4.566588758366862e-06, 5.396913895995949e-06]\n"
     ]
    }
   ],
   "source": [
    "# Create empty list to store of fraction χ of the Eddington accretion rate values\n",
    "χ_rate_list = []\n",
    "\n",
    "fields=[\"BH_Mass\", \"BH_Mdot\", \"BH_MdotEddington\"]\n",
    "\n",
    "# Loop over each subhalo ID and there snapshot\n",
    "for snapshot, id in zip(snapshots, ids):\n",
    "    # Load black hole properties for specific subhalo\n",
    "    blackholes = il.snapshot.loadSubhalo(basePath, snapshot, id, \"BH\", fields=fields)\n",
    "    \n",
    "    # Calculate the BHdot.\n",
    "    if isinstance(blackholes, np.ndarray) and blackholes.size > 0 and blackholes['BH_Mdot'][0] != 0:  \n",
    "        bhdot = blackholes['BH_Mdot'][0]\n",
    "    elif isinstance(blackholes, dict) and 'BH_Mdot' in blackholes and len(blackholes['BH_Mdot']) > 0 and blackholes['BH_Mdot'][0] != 0: \n",
    "        bhdot = blackholes['BH_Mdot'][0]\n",
    "    else:  \n",
    "        bhdot = np.nan  # Set to np.nan so that the resulting χ_rate will be np.nan.\n",
    "        \n",
    "    # Calculate the BH eddington.\n",
    "    if isinstance(blackholes, np.ndarray) and blackholes.size > 0 and blackholes['BH_MdotEddington'][0] != 0:  \n",
    "        bhedd = blackholes['BH_MdotEddington'][0]\n",
    "    elif isinstance(blackholes, dict) and 'BH_MdotEddington' in blackholes and len(blackholes['BH_MdotEddington']) > 0 and blackholes['BH_MdotEddington'][0] != 0:  \n",
    "        bhedd = blackholes['BH_MdotEddington'][0]\n",
    "    else:  \n",
    "        bhedd = np.nan  # Set to np.nan so that the resulting χ_rate will be np.nan.\n",
    "\n",
    "        \n",
    "    # Calculate χ_rate\n",
    "    χ_rate = (bhdot / bhedd)\n",
    "\n",
    "    \n",
    "    # Append χ_rate to the list\n",
    "    χ_rate_list.append(χ_rate)\n",
    "\n",
    "\n",
    "# Print fraction χ values\n",
    "print(\"χ values:\")\n",
    "print(χ_rate_list)\n",
    "\n",
    "df = pd.read_csv('TNG_408764.csv')\n",
    "df['χ'] = χ_rate_list\n",
    "df.to_csv('TNG_408764.csv', index=False)"
   ]
  },
  {
   "cell_type": "code",
   "execution_count": 47,
   "metadata": {},
   "outputs": [
    {
     "name": "stdout",
     "output_type": "stream",
     "text": [
      "Bol Luminosity values:\n",
      "[44.31007727973536, 43.156625634833496, 43.685837167471554, 42.66584771569034, 41.55525176019272, 41.33984272717136, 42.75414021312273, 42.20430419780175, 42.02583535192684, 41.617467721535355, 41.690081075308505]\n"
     ]
    }
   ],
   "source": [
    "# Create empty list to store the bolometric luminosity values\n",
    "L_list = []\n",
    "\n",
    "fields=[\"BH_Mass\", \"BH_Mdot\"]\n",
    "\n",
    "# Loop over each subhalo ID and there snapshot\n",
    "for snapshot, id in zip(snapshots, ids):\n",
    "    # Load black hole properties for specific subhalo\n",
    "    blackholes = il.snapshot.loadSubhalo(basePath, snapshot, id, \"BH\", fields=fields)\n",
    "    \n",
    "    # Calculate the BHdot.\n",
    "    if isinstance(blackholes, np.ndarray) and blackholes.size > 0 and blackholes['BH_Mdot'][0] != 0:  \n",
    "        bhdot = blackholes['BH_Mdot'][0] * ((1e10 * Msun) / (h * Gyr_to_s))\n",
    "    elif isinstance(blackholes, dict) and 'BH_Mdot' in blackholes and len(blackholes['BH_Mdot']) > 0 and blackholes['BH_Mdot'][0] != 0: \n",
    "        bhdot = blackholes['BH_Mdot'][0] * ((1e10 * Msun) / (h * Gyr_to_s))\n",
    "    else:  \n",
    "        bhdot = np.nan  # Set to np.nan so that the resulting L_bol will be np.nan.\n",
    "\n",
    "    # Calculate L_bol\n",
    "    L_bol = e_r * bhdot * c**2\n",
    "\n",
    "    \n",
    "    # Append bolometric luminosity to the list\n",
    "    L_list.append(np.log10(L_bol))\n",
    "\n",
    "\n",
    "# Print bolometric luminosity values\n",
    "print(\"Bol Luminosity values:\")\n",
    "print(L_list)\n",
    "\n",
    "df = pd.read_csv('TNG_408764.csv')\n",
    "df['L_bol'] = L_list\n",
    "df.to_csv('TNG_408764.csv', index=False)"
   ]
  },
  {
   "cell_type": "code",
   "execution_count": 48,
   "metadata": {},
   "outputs": [
    {
     "name": "stdout",
     "output_type": "stream",
     "text": [
      "Edd Luminosity values:\n",
      "[46.77458530741791, 46.80555064470885, 46.81191861161516, 46.81319588013682, 46.81341325010084, 46.81357468493315, 46.95733667850968, 46.957694079599186, 46.95786012374953, 46.95787581831759, 46.95793558605414]\n"
     ]
    }
   ],
   "source": [
    "# Create empty list to store the Eddington luminosity values\n",
    "L_edd_list = []\n",
    "\n",
    "e_r = 0.2\n",
    "\n",
    "fields=[\"BH_Mass\", \"BH_MdotEddington\"]\n",
    "\n",
    "# Loop over each subhalo ID and there snapshot\n",
    "for snapshot, id in zip(snapshots, ids):\n",
    "    # Load black hole properties for specific subhalo\n",
    "    blackholes = il.snapshot.loadSubhalo(basePath, snapshot, id, \"BH\", fields=fields)\n",
    "    \n",
    "    # Calculate the BH eddington.\n",
    "    if isinstance(blackholes, np.ndarray) and blackholes.size > 0 and blackholes['BH_MdotEddington'][0] != 0:  \n",
    "        bhedd = blackholes['BH_MdotEddington'][0] * ((1e10 * Msun) / (h * Gyr_to_s))\n",
    "    elif isinstance(blackholes, dict) and 'BH_MdotEddington' in blackholes and len(blackholes['BH_MdotEddington']) > 0 and blackholes['BH_MdotEddington'][0] != 0: \n",
    "        bhedd = blackholes['BH_MdotEddington'][0] * ((1e10 * Msun) / (h * Gyr_to_s))\n",
    "    else:  \n",
    "        bhedd = np.nan  # Set to np.nan so that the resulting L_edd will be np.nan.\n",
    "\n",
    "\n",
    "    # Calculate L_edd\n",
    "    L_edd = e_r * bhedd * c**2\n",
    "\n",
    "    \n",
    "    # Append Eddington luminosity to the list\n",
    "    L_edd_list.append(np.log10(L_edd))\n",
    "\n",
    "\n",
    "# Print Eddington luminosity values\n",
    "print(\"Edd Luminosity values:\")\n",
    "print(L_edd_list)\n",
    "\n",
    "df = pd.read_csv('TNG_408764.csv')\n",
    "df['L_edd'] = L_edd_list\n",
    "df.to_csv('TNG_408764.csv', index=False)"
   ]
  },
  {
   "cell_type": "code",
   "execution_count": 49,
   "metadata": {},
   "outputs": [
    {
     "name": "stdout",
     "output_type": "stream",
     "text": [
      "E_feed values:\n",
      "[44.31007727973536, 43.156625634833496, 43.685837167471554, 42.66584771569034, 41.55525176019272, 41.33984272717136, 42.75414021312273, 42.20430419780175, 42.02583535192684, 41.617467721535355, 41.690081075308505]\n"
     ]
    }
   ],
   "source": [
    "# Create empty list to store the feedback energy of the AGN values\n",
    "E_feed_list = []\n",
    "\n",
    "\n",
    "Msun = 1.989e33 # in grams\n",
    "Gyr_to_s = 3.15576e16 # in seconds\n",
    "h = 0.6774\n",
    "\n",
    "fields=[\"BH_Mass\", \"BH_Mdot\"]\n",
    "\n",
    "# Loop over each subhalo ID and there snapshot\n",
    "for snapshot, id in zip(snapshots, ids):\n",
    "    # Load black hole properties for specific subhalo\n",
    "    blackholes = il.snapshot.loadSubhalo(basePath, snapshot, id, \"BH\", fields=fields)\n",
    "    \n",
    "    # Calculate the BHdot.\n",
    "    if isinstance(blackholes, np.ndarray) and blackholes.size > 0 and blackholes['BH_Mdot'][0] != 0:  \n",
    "        bhdot = blackholes['BH_Mdot'][0] * ((1e10 * Msun) / (h * Gyr_to_s))\n",
    "    elif isinstance(blackholes, dict) and 'BH_Mdot' in blackholes and len(blackholes['BH_Mdot']) > 0 and blackholes['BH_Mdot'][0] != 0: \n",
    "        bhdot = blackholes['BH_Mdot'][0] * ((1e10 * Msun) / (h * Gyr_to_s))\n",
    "    else:  \n",
    "        bhdot = np.nan  # Set to np.nan so that the resulting feedback energy will be np.nan.\n",
    "\n",
    "        \n",
    "    # Calculate feedback energy\n",
    "    E_feed = e_fm * bhdot * c**2\n",
    "\n",
    "    \n",
    "    # Append feedback energy to the list\n",
    "    E_feed_list.append(np.log10(E_feed))\n",
    "\n",
    "\n",
    "# Print feedback energy values\n",
    "print(\"E_feed values:\")\n",
    "print(E_feed_list)\n",
    "\n",
    "df = pd.read_csv('TNG_408764.csv')\n",
    "df['E_feed'] = E_feed_list\n",
    "df.to_csv('TNG_408764.csv', index=False)"
   ]
  },
  {
   "cell_type": "code",
   "execution_count": 50,
   "metadata": {},
   "outputs": [
    {
     "name": "stdout",
     "output_type": "stream",
     "text": [
      "Logarithmic QM and RM at snap=25, id=39895: 8.778714654549962, 7.779421527229899\n",
      "Logarithmic QM and RM at snap=33, id=107233: 8.79088398554675, 8.296281379254825\n",
      "Logarithmic QM and RM at snap=40, id=175977: 8.79220307305905, 8.391452000385659\n",
      "Logarithmic QM and RM at snap=50, id=266546: 8.79220307305905, 8.429749306578026\n",
      "Logarithmic QM and RM at snap=59, id=274520: 8.79220307305905, 8.43550975369787\n",
      "Logarithmic QM and RM at snap=67, id=296833: 8.79220307305905, 8.43975434638908\n",
      "Logarithmic QM and RM at snap=72, id=316818: 8.865642014988262, 8.464314151876332\n",
      "Logarithmic QM and RM at snap=78, id=337032: 8.865642014988262, 8.475691883383329\n",
      "Logarithmic QM and RM at snap=84, id=365040: 8.865642014988262, 8.48033551794586\n",
      "Logarithmic QM and RM at snap=91, id=387977: 8.865642014988262, 8.480439673214265\n",
      "Logarithmic QM and RM at snap=99, id=408764: 8.865642014988262, 8.481355591382345\n"
     ]
    }
   ],
   "source": [
    "# Prepare empty lists to store the logarithm values\n",
    "QM_values = []\n",
    "RM_values = []\n",
    "\n",
    "# Loop over each subhalo ID and their snapshot\n",
    "for snapshot, id in zip(snapshots, ids):\n",
    "    # Load necessary fields\n",
    "    fields = ['BH_CumEgyInjection_QM', 'BH_CumEgyInjection_RM']\n",
    "    data = il.snapshot.loadSubhalo(basePath, snapshot, id, 'BH', fields=fields)\n",
    "    \n",
    "    # Convert units\n",
    "    BH_CumEgyInjection_QM_phys = np.sqrt(data['BH_CumEgyInjection_QM'] * 1e10 / 0.7 / (0.978 / 0.7)**2)\n",
    "    BH_CumEgyInjection_RM_phys = np.sqrt(data['BH_CumEgyInjection_RM'] * 1e10 / 0.7 / (0.978 / 0.7)**2)\n",
    "\n",
    "    # Calculate the logarithm and replace -inf with 0\n",
    "    QM_log = np.log10(BH_CumEgyInjection_QM_phys)\n",
    "    RM_log = np.log10(BH_CumEgyInjection_RM_phys)\n",
    "    \n",
    "    QM_log[np.isneginf(QM_log)] = 0\n",
    "    RM_log[np.isneginf(RM_log)] = 0\n",
    "\n",
    "    QM_values.append(QM_log[0])  # Only store the first (and only) value in the array\n",
    "    RM_values.append(RM_log[0])  # Only store the first (and only) value in the array\n",
    "\n",
    "    print(f'Logarithmic QM and RM at snap={snapshot}, id={id}: {QM_log[0]}, {RM_log[0]}')\n",
    "    \n",
    "df = pd.read_csv('TNG_408764.csv')\n",
    "df['Log_EQM'] = QM_values\n",
    "df['Log_ERM'] = RM_values\n",
    "df.to_csv('TNG_408764.csv', index=False)"
   ]
  },
  {
   "cell_type": "code",
   "execution_count": 24,
   "metadata": {},
   "outputs": [
    {
     "name": "stdout",
     "output_type": "stream",
     "text": [
      "   Redshift (z)  Average divergence  Average radial velocity  \\\n",
      "0           3.0           -3.053387               -64.992105   \n",
      "1           2.0            0.659925              -124.967875   \n",
      "2           1.5            1.260953               -30.659360   \n",
      "3           1.0           -1.428051               -52.205839   \n",
      "4           0.7           -2.432134              -274.048032   \n",
      "\n",
      "   Blackhole Masses     Bhmdot      SFR         χ      L_bol      L_edd  \\\n",
      "0          8.515736  24.055406  0.00000  0.003432  44.310077  46.774585   \n",
      "1          8.546695  22.901954  0.00000  0.000224  43.156626  46.805551   \n",
      "2          8.553064  23.431166  0.03535  0.000748  43.685837  46.811919   \n",
      "3          8.554341  22.411176  0.00000  0.000071  42.665848  46.813196   \n",
      "4          8.554558  21.300580  0.00000  0.000006  41.555252  46.813413   \n",
      "\n",
      "      E_feed   Log_EQM   Log_ERM  Average divergence of Halo  \n",
      "0  44.310077  8.778715  7.779422                   -0.837105  \n",
      "1  43.156626  8.790884  8.296281                    9.517565  \n",
      "2  43.685837  8.792203  8.391452                    6.954648  \n",
      "3  42.665848  8.792203  8.429749                    2.361751  \n",
      "4  41.555252  8.792203  8.435510                   -1.338698  \n"
     ]
    }
   ],
   "source": [
    "#lets view the compilation of the file \n",
    "df = pd.read_csv('TNG_408764.csv')\n",
    "print(df.head())"
   ]
  },
  {
   "cell_type": "code",
   "execution_count": null,
   "metadata": {},
   "outputs": [],
   "source": []
  }
 ],
 "metadata": {
  "kernelspec": {
   "display_name": "Python 3 (ipykernel)",
   "language": "python",
   "name": "python3"
  },
  "language_info": {
   "codemirror_mode": {
    "name": "ipython",
    "version": 3
   },
   "file_extension": ".py",
   "mimetype": "text/x-python",
   "name": "python",
   "nbconvert_exporter": "python",
   "pygments_lexer": "ipython3",
   "version": "3.9.13"
  }
 },
 "nbformat": 4,
 "nbformat_minor": 4
}
